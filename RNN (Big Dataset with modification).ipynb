{
 "cells": [
  {
   "cell_type": "code",
   "execution_count": 1,
   "id": "704ab3fa-f6d1-4450-abac-0e089b1bfd1c",
   "metadata": {},
   "outputs": [
    {
     "name": "stdout",
     "output_type": "stream",
     "text": [
      "WARNING:tensorflow:From C:\\Users\\Huang\\anaconda3\\Lib\\site-packages\\keras\\src\\losses.py:2976: The name tf.losses.sparse_softmax_cross_entropy is deprecated. Please use tf.compat.v1.losses.sparse_softmax_cross_entropy instead.\n",
      "\n"
     ]
    }
   ],
   "source": [
    "import pandas as pd\n",
    "import numpy as np\n",
    "import matplotlib.pyplot as plt\n",
    "import seaborn as sns\n",
    "from sklearn.model_selection import train_test_split\n",
    "from sklearn.preprocessing import LabelEncoder\n",
    "from keras.models import Model\n",
    "from keras.layers import LSTM, Activation, Dense, Dropout, Input, Embedding\n",
    "from keras.optimizers import RMSprop\n",
    "from keras.preprocessing.text import Tokenizer\n",
    "from keras.preprocessing import sequence\n",
    "from keras.utils import to_categorical\n",
    "from keras.callbacks import EarlyStopping\n",
    "%matplotlib inline\n",
    "from keras.preprocessing.text import Tokenizer\n",
    "import tensorflow as tf\n",
    "from tensorflow.keras.utils import plot_model\n",
    "from tensorflow.keras.layers import Input, Embedding, Attention, LayerNormalization, Dense\n",
    "from sklearn import tree\n",
    "from tensorflow.keras import models, layers\n",
    "import warnings\n",
    "\n",
    "from keras.metrics import Recall\n",
    "from keras.metrics import Accuracy\n",
    "from tensorflow.keras.preprocessing.text import Tokenizer\n",
    "from tensorflow.keras.preprocessing.sequence import pad_sequences\n",
    "from sklearn.feature_extraction.text import CountVectorizer\n",
    "from sklearn.feature_extraction.text import TfidfVectorizer"
   ]
  },
  {
   "cell_type": "code",
   "execution_count": 2,
   "id": "08d3e830-417b-4fa4-94a6-9e457cd7b02f",
   "metadata": {},
   "outputs": [],
   "source": [
    "df = pd.read_csv('clean_sql_dataset - Copy.csv')"
   ]
  },
  {
   "cell_type": "code",
   "execution_count": 3,
   "id": "75a70e72-12b9-489a-b6cc-e9fcf11cc537",
   "metadata": {},
   "outputs": [
    {
     "name": "stdout",
     "output_type": "stream",
     "text": [
      "<class 'pandas.core.frame.DataFrame'>\n",
      "RangeIndex: 149435 entries, 0 to 149434\n",
      "Data columns (total 2 columns):\n",
      " #   Column  Non-Null Count   Dtype \n",
      "---  ------  --------------   ----- \n",
      " 0   Query   149434 non-null  object\n",
      " 1   Label   149435 non-null  int64 \n",
      "dtypes: int64(1), object(1)\n",
      "memory usage: 2.3+ MB\n"
     ]
    }
   ],
   "source": [
    "df.info()"
   ]
  },
  {
   "cell_type": "code",
   "execution_count": 4,
   "id": "19781da8-3f9b-4dab-8380-a5f83f5e653f",
   "metadata": {},
   "outputs": [],
   "source": [
    "df.dropna(inplace=True)"
   ]
  },
  {
   "cell_type": "code",
   "execution_count": 5,
   "id": "7c4a9615-0a1a-43e2-a7cd-d9fc9462de02",
   "metadata": {},
   "outputs": [],
   "source": [
    "X=df['Query']\n",
    "y=df['Label']"
   ]
  },
  {
   "cell_type": "code",
   "execution_count": 6,
   "id": "9178707f-8868-4f7d-a61b-a7cf23742dbd",
   "metadata": {},
   "outputs": [
    {
     "data": {
      "text/plain": [
       "611692"
      ]
     },
     "execution_count": 6,
     "metadata": {},
     "output_type": "execute_result"
    }
   ],
   "source": [
    "max_words = len(list(X.str.split(' ', expand=True).stack().unique()))\n",
    "max_words"
   ]
  },
  {
   "cell_type": "code",
   "execution_count": 7,
   "id": "ce854454-c5fb-461a-93fa-e47665868e80",
   "metadata": {},
   "outputs": [],
   "source": [
    "X_train, X_test, y_train, y_test = train_test_split(X, y, test_size=0.2, random_state=42)"
   ]
  },
  {
   "cell_type": "code",
   "execution_count": 8,
   "id": "b2a29743-a181-4cb3-b9d7-dcf910c4e69c",
   "metadata": {},
   "outputs": [
    {
     "name": "stdout",
     "output_type": "stream",
     "text": [
      "(119547,)\n",
      "(119547,)\n",
      "(29887,)\n",
      "(29887,)\n"
     ]
    }
   ],
   "source": [
    "print(X_train.shape)\n",
    "print(y_train.shape)\n",
    "print(X_test.shape)\n",
    "print(y_test.shape)"
   ]
  },
  {
   "cell_type": "code",
   "execution_count": 9,
   "id": "fbae88ea-9059-4e28-95af-0a7150dee6c1",
   "metadata": {},
   "outputs": [],
   "source": [
    "train_shape = X_train.shape[1:]"
   ]
  },
  {
   "cell_type": "code",
   "execution_count": 10,
   "id": "a9da3138-daea-4910-a521-0ecd8edf73ee",
   "metadata": {},
   "outputs": [],
   "source": [
    "max_words = 611692\n",
    "max_len = 150\n",
    "tok = Tokenizer(num_words=max_words)\n",
    "tok.fit_on_texts(X_train)\n",
    "sequences = tok.texts_to_sequences(X_train)\n",
    "sequences_matrix = sequence.pad_sequences(sequences,maxlen=max_len)"
   ]
  },
  {
   "cell_type": "code",
   "execution_count": 11,
   "id": "aadf4404-5ca6-45c1-979a-d590751b7f30",
   "metadata": {},
   "outputs": [
    {
     "name": "stdout",
     "output_type": "stream",
     "text": [
      "WARNING:tensorflow:From C:\\Users\\Huang\\anaconda3\\Lib\\site-packages\\keras\\src\\backend.py:873: The name tf.get_default_graph is deprecated. Please use tf.compat.v1.get_default_graph instead.\n",
      "\n",
      "WARNING:tensorflow:From C:\\Users\\Huang\\anaconda3\\Lib\\site-packages\\keras\\src\\optimizers\\__init__.py:309: The name tf.train.Optimizer is deprecated. Please use tf.compat.v1.train.Optimizer instead.\n",
      "\n",
      "Epoch 1/10\n",
      "WARNING:tensorflow:From C:\\Users\\Huang\\anaconda3\\Lib\\site-packages\\keras\\src\\utils\\tf_utils.py:492: The name tf.ragged.RaggedTensorValue is deprecated. Please use tf.compat.v1.ragged.RaggedTensorValue instead.\n",
      "\n",
      "WARNING:tensorflow:From C:\\Users\\Huang\\anaconda3\\Lib\\site-packages\\keras\\src\\engine\\base_layer_utils.py:384: The name tf.executing_eagerly_outside_functions is deprecated. Please use tf.compat.v1.executing_eagerly_outside_functions instead.\n",
      "\n",
      "748/748 [==============================] - 247s 328ms/step - loss: 225.5985 - accuracy: 0.8812 - val_loss: 0.3419 - val_accuracy: 0.8923\n",
      "Epoch 2/10\n",
      "748/748 [==============================] - 233s 311ms/step - loss: 0.1884 - accuracy: 0.9437 - val_loss: 0.1823 - val_accuracy: 0.9504\n",
      "Epoch 3/10\n",
      "748/748 [==============================] - 239s 319ms/step - loss: 0.1159 - accuracy: 0.9652 - val_loss: 0.1647 - val_accuracy: 0.9562\n",
      "Epoch 4/10\n",
      "748/748 [==============================] - 236s 315ms/step - loss: 0.0882 - accuracy: 0.9709 - val_loss: 0.1582 - val_accuracy: 0.9579\n",
      "Epoch 5/10\n",
      "748/748 [==============================] - 234s 313ms/step - loss: 15.1266 - accuracy: 0.9633 - val_loss: 0.1989 - val_accuracy: 0.9487\n",
      "Epoch 6/10\n",
      "748/748 [==============================] - 238s 318ms/step - loss: 0.0782 - accuracy: 0.9745 - val_loss: 0.1943 - val_accuracy: 0.9490\n",
      "Epoch 7/10\n",
      "748/748 [==============================] - 235s 314ms/step - loss: 0.0623 - accuracy: 0.9791 - val_loss: 0.2026 - val_accuracy: 0.9491\n"
     ]
    }
   ],
   "source": [
    "from keras.models import Sequential\n",
    "model = Sequential(name=\"RNN\")\n",
    "model.add(Embedding(max_words,100,input_length=max_len))\n",
    "model.add(layers.SimpleRNN(units=64, activation='relu'))\n",
    "\n",
    "# Add a Dense layer for classification (adjust units and activation as needed)\n",
    "model.add(layers.Dense(units=1, activation='sigmoid'))\n",
    "\n",
    "# Compile the model\n",
    "model.compile(optimizer='adam', loss='binary_crossentropy', metrics=['accuracy'])\n",
    "\n",
    "callbacks = EarlyStopping(monitor='val_loss', min_delta=0.0001, patience=3)\n",
    "history_rnn = model.fit(sequences_matrix,y_train, batch_size=128, epochs=10,\n",
    "                   validation_split=0.2,callbacks=[callbacks])"
   ]
  },
  {
   "cell_type": "code",
   "execution_count": 12,
   "id": "a85b52c8-d834-4c63-9c9f-9ea0ab69d36e",
   "metadata": {},
   "outputs": [],
   "source": [
    "X_test_sequences = tok.texts_to_sequences(X_test)\n",
    "X_test_sequences_matrix = sequence.pad_sequences(X_test_sequences,maxlen=max_len)"
   ]
  },
  {
   "cell_type": "code",
   "execution_count": 13,
   "id": "f54752ac-380d-49f3-9b65-f4fe666a46b0",
   "metadata": {},
   "outputs": [
    {
     "name": "stdout",
     "output_type": "stream",
     "text": [
      "934/934 [==============================] - 4s 4ms/step\n"
     ]
    }
   ],
   "source": [
    "y_pred=model.predict(X_test_sequences_matrix)"
   ]
  },
  {
   "cell_type": "code",
   "execution_count": 14,
   "id": "ab4f13ca-ab6a-4882-bc8b-4513903be647",
   "metadata": {},
   "outputs": [
    {
     "name": "stdout",
     "output_type": "stream",
     "text": [
      "[[0.99594164]\n",
      " [0.98553914]\n",
      " [0.97083277]\n",
      " ...\n",
      " [0.16780023]\n",
      " [0.05174875]\n",
      " [0.99467635]]\n"
     ]
    }
   ],
   "source": [
    "print(y_pred)"
   ]
  },
  {
   "cell_type": "code",
   "execution_count": 15,
   "id": "31ccfdeb-bc27-4553-a956-c37730f3444d",
   "metadata": {},
   "outputs": [],
   "source": [
    "for i in range(len(y_pred)):\n",
    "    if y_pred[i]>0.5:\n",
    "        y_pred[i]=1\n",
    "    elif y_pred[i]<=0.5:\n",
    "        y_pred[i]=0"
   ]
  },
  {
   "cell_type": "code",
   "execution_count": 16,
   "id": "4a486fb0-8f39-4bdb-861c-404c51d20bbb",
   "metadata": {},
   "outputs": [
    {
     "name": "stdout",
     "output_type": "stream",
     "text": [
      "[[1.]\n",
      " [1.]\n",
      " [1.]\n",
      " ...\n",
      " [0.]\n",
      " [0.]\n",
      " [1.]]\n"
     ]
    }
   ],
   "source": [
    "print(y_pred)"
   ]
  },
  {
   "cell_type": "code",
   "execution_count": 17,
   "id": "a59f6af6-dd60-4950-9e11-52d9414e4a73",
   "metadata": {},
   "outputs": [],
   "source": [
    "f1_dict = {}\n",
    "precision_dict = {}\n",
    "recall_dict = {}\n",
    "accuracy_dict = {}\n",
    "train_accuracy = {}\n",
    "validation_accuracy = {}\n",
    "test_accuracy = {}"
   ]
  },
  {
   "cell_type": "code",
   "execution_count": 88,
   "id": "31acffe9-f77a-4afd-ae6c-b2fbf4e45f51",
   "metadata": {},
   "outputs": [
    {
     "name": "stdout",
     "output_type": "stream",
     "text": [
      " Accuracy : 0.9489075517783652 \n",
      " Precision : 0.9776926694886784 \n",
      " Recall : 0.9241077098945764 \n",
      " F1 : 0.9501452871461686\n"
     ]
    }
   ],
   "source": [
    "from sklearn.metrics import confusion_matrix\n",
    "from sklearn.metrics import accuracy_score\n",
    "from sklearn.metrics import precision_score\n",
    "from sklearn.metrics import recall_score\n",
    "from sklearn.metrics import f1_score\n",
    "test_accuracy[\"RNN\"] = accuracy_score(y_test, y_pred)\n",
    "precision_dict[\"RNN\"] = precision_score(y_test, y_pred, zero_division=1)\n",
    "recall_dict[\"RNN\"]= recall_score(y_test, y_pred, zero_division=1)\n",
    "f1_dict[\"RNN\"] = f1_score(y_test, y_pred, zero_division=1)\n",
    "print(\" Accuracy : {0} \\n Precision : {1} \\n Recall : {2} \\n F1 : {3}\".format(accuracy, precision, recall, f1_score))"
   ]
  },
  {
   "cell_type": "code",
   "execution_count": 19,
   "id": "3ee656a7-4419-4999-a33b-3a78ef21f76c",
   "metadata": {},
   "outputs": [
    {
     "data": {
      "text/html": [
       "<div>\n",
       "<style scoped>\n",
       "    .dataframe tbody tr th:only-of-type {\n",
       "        vertical-align: middle;\n",
       "    }\n",
       "\n",
       "    .dataframe tbody tr th {\n",
       "        vertical-align: top;\n",
       "    }\n",
       "\n",
       "    .dataframe thead th {\n",
       "        text-align: right;\n",
       "    }\n",
       "</style>\n",
       "<table border=\"1\" class=\"dataframe\">\n",
       "  <thead>\n",
       "    <tr style=\"text-align: right;\">\n",
       "      <th></th>\n",
       "      <th>RNN</th>\n",
       "    </tr>\n",
       "  </thead>\n",
       "  <tbody>\n",
       "    <tr>\n",
       "      <th>F1_Score</th>\n",
       "      <td>0.950145</td>\n",
       "    </tr>\n",
       "    <tr>\n",
       "      <th>Precision</th>\n",
       "      <td>0.977693</td>\n",
       "    </tr>\n",
       "    <tr>\n",
       "      <th>Recall</th>\n",
       "      <td>0.924108</td>\n",
       "    </tr>\n",
       "    <tr>\n",
       "      <th>Accuracy</th>\n",
       "      <td>0.948908</td>\n",
       "    </tr>\n",
       "  </tbody>\n",
       "</table>\n",
       "</div>"
      ],
      "text/plain": [
       "                RNN\n",
       "F1_Score   0.950145\n",
       "Precision  0.977693\n",
       "Recall     0.924108\n",
       "Accuracy   0.948908"
      ]
     },
     "execution_count": 19,
     "metadata": {},
     "output_type": "execute_result"
    }
   ],
   "source": [
    "key1 = f1_dict, precision_dict, recall_dict, test_accuracy\n",
    "metrics = ['F1_Score', 'Precision', 'Recall', 'Accuracy']\n",
    "data = pd.DataFrame(key1)\n",
    "data.index = metrics\n",
    "data"
   ]
  },
  {
   "cell_type": "code",
   "execution_count": 90,
   "id": "4e485b0d-17c3-4e7a-a223-5096caf4054e",
   "metadata": {},
   "outputs": [
    {
     "name": "stdout",
     "output_type": "stream",
     "text": [
      "[[13809   332]\n",
      " [ 1195 14551]]\n"
     ]
    }
   ],
   "source": [
    "cf_matrix = confusion_matrix(y_test,y_pred)\n",
    "print(cf_matrix)"
   ]
  },
  {
   "cell_type": "code",
   "execution_count": 150,
   "id": "44e7a14e-180e-4a3e-90c9-9ac30bc02624",
   "metadata": {},
   "outputs": [
    {
     "data": {
      "image/png": "[encoded data removed]",
      "text/plain": [
       "<Figure size 640x480 with 2 Axes>"
      ]
     },
     "metadata": {},
     "output_type": "display_data"
    }
   ],
   "source": [
    "import matplotlib.pyplot as plt\n",
    "import numpy as np\n",
    "\n",
    "# Create the heatmap\n",
    "plt.imshow(cf_matrix, cmap='Blues')\n",
    "\n",
    "# Add a color bar\n",
    "cbar = plt.colorbar()\n",
    "\n",
    "# Add labels to the x and y axes\n",
    "plt.xlabel('Predicted label')\n",
    "plt.ylabel('True label')\n",
    "\n",
    "# Add annotations (numbers) to the heatmap\n",
    "thresh = cf_matrix.max() / 2.0\n",
    "for i in range(cf_matrix.shape[0]):\n",
    "    for j in range(cf_matrix.shape[1]):\n",
    "        plt.text(j, i, format(cf_matrix[i, j],'d'),ha=\"center\", va=\"center\",color=\"white\" if cf_matrix[i, j] > thresh else \"black\")\n",
    "\n",
    "\n",
    "# Set the title\n",
    "plt.title('Confusion Matrix with Annotations')\n",
    "\n",
    "# Hide the ticks and tick labels\n",
    "plt.gca().xaxis.set_ticks_position('none') \n",
    "plt.gca().yaxis.set_ticks_position('none') \n",
    "plt.gca().xaxis.set_ticklabels([]) \n",
    "plt.gca().yaxis.set_ticklabels([])\n",
    "\n",
    "# Hide the spines (the lines that make up the box)\n",
    "for spine in plt.gca().spines.values():\n",
    "    spine.set_visible(False)\n",
    "\n",
    "# plt.axis('off')\n",
    "\n",
    "# Display the plot\n",
    "plt.show()"
   ]
  },
  {
   "cell_type": "code",
   "execution_count": 22,
   "id": "b65f99af-8399-45c4-9793-78d75108f1b8",
   "metadata": {},
   "outputs": [
    {
     "name": "stdout",
     "output_type": "stream",
     "text": [
      "done\n"
     ]
    },
    {
     "name": "stderr",
     "output_type": "stream",
     "text": [
      "C:\\Users\\Huang\\anaconda3\\Lib\\site-packages\\keras\\src\\engine\\training.py:3103: UserWarning: You are saving your model as an HDF5 file via `model.save()`. This file format is considered legacy. We recommend using instead the native Keras format, e.g. `model.save('my_model.keras')`.\n",
      "  saving_api.save_model(\n"
     ]
    }
   ],
   "source": [
    "from keras.models import load_model\n",
    "from pathlib import Path\n",
    "\n",
    "model.save_weights(\"lstm_weights_RNNModifiedDataset.h5\")\n",
    "print('done')\n",
    "\n",
    "model.save('lstm_model_RNNModifiedDataset.h5')"
   ]
  },
  {
   "cell_type": "code",
   "execution_count": 152,
   "id": "5c7d0953-1442-446d-a5b7-0d018e1ff3e4",
   "metadata": {},
   "outputs": [
    {
     "name": "stdout",
     "output_type": "stream",
     "text": [
      "WARNING:tensorflow:From C:\\Users\\Huang\\anaconda3\\Lib\\site-packages\\keras\\src\\backend.py:6642: The name tf.nn.max_pool is deprecated. Please use tf.nn.max_pool2d instead.\n",
      "\n",
      "Model: \"CNN\"\n",
      "_________________________________________________________________\n",
      " Layer (type)                Output Shape              Param #   \n",
      "=================================================================\n",
      " embedding_1 (Embedding)     (None, 150, 100)          61169200  \n",
      "                                                                 \n",
      " conv1d (Conv1D)             (None, 147, 32)           12832     \n",
      "                                                                 \n",
      " max_pooling1d (MaxPooling1  (None, 73, 32)            0         \n",
      " D)                                                              \n",
      "                                                                 \n",
      " conv1d_1 (Conv1D)           (None, 70, 64)            8256      \n",
      "                                                                 \n",
      " max_pooling1d_1 (MaxPoolin  (None, 35, 64)            0         \n",
      " g1D)                                                            \n",
      "                                                                 \n",
      " conv1d_2 (Conv1D)           (None, 32, 128)           32896     \n",
      "                                                                 \n",
      " max_pooling1d_2 (MaxPoolin  (None, 16, 128)           0         \n",
      " g1D)                                                            \n",
      "                                                                 \n",
      " flatten (Flatten)           (None, 2048)              0         \n",
      "                                                                 \n",
      " dense_1 (Dense)             (None, 1)                 2049      \n",
      "                                                                 \n",
      "=================================================================\n",
      "Total params: 61225233 (233.56 MB)\n",
      "Trainable params: 61225233 (233.56 MB)\n",
      "Non-trainable params: 0 (0.00 Byte)\n",
      "_________________________________________________________________\n"
     ]
    }
   ],
   "source": [
    "from keras.models import Sequential\n",
    "model = Sequential(name=\"CNN\")\n",
    "model.add(Embedding(max_words,100,input_length=max_len))\n",
    "model.add(layers.Conv1D(filters=32, kernel_size=4, activation='relu'))\n",
    "model.add(layers.MaxPooling1D(pool_size=2))\n",
    "model.add(layers.Conv1D(filters=64, kernel_size=4, activation='relu'))\n",
    "model.add(layers.MaxPooling1D(pool_size=2))\n",
    "model.add(layers.Conv1D(filters=128, kernel_size=4, activation='relu'))\n",
    "model.add(layers.MaxPooling1D(pool_size=2))\n",
    "model.add(layers.Flatten())\n",
    "model.add(layers.Dense(1, activation = 'sigmoid'))\n",
    "model.summary()\n",
    "model.compile(optimizer = 'adam', loss = tf.keras.losses.BinaryCrossentropy(), metrics = ['accuracy'])"
   ]
  },
  {
   "cell_type": "code",
   "execution_count": 154,
   "id": "6a848d95-7550-4558-b59c-26c4899176e5",
   "metadata": {},
   "outputs": [
    {
     "name": "stdout",
     "output_type": "stream",
     "text": [
      "Epoch 1/10\n",
      "748/748 [==============================] - 221s 294ms/step - loss: 0.0970 - accuracy: 0.9625 - val_loss: 0.0432 - val_accuracy: 0.9884\n",
      "Epoch 2/10\n",
      "748/748 [==============================] - 220s 294ms/step - loss: 0.0285 - accuracy: 0.9924 - val_loss: 0.0433 - val_accuracy: 0.9888\n",
      "Epoch 3/10\n",
      "748/748 [==============================] - 220s 293ms/step - loss: 0.0199 - accuracy: 0.9943 - val_loss: 0.0531 - val_accuracy: 0.9869\n",
      "Epoch 4/10\n",
      "748/748 [==============================] - 220s 294ms/step - loss: 0.0145 - accuracy: 0.9959 - val_loss: 0.0632 - val_accuracy: 0.9865\n"
     ]
    }
   ],
   "source": [
    "callbacks = EarlyStopping(monitor='val_loss', min_delta=0.0001, patience=3)\n",
    "history = model.fit(sequences_matrix,y_train, batch_size=128, epochs=10,\n",
    "                   validation_split=0.2,callbacks=[callbacks])"
   ]
  },
  {
   "cell_type": "code",
   "execution_count": 156,
   "id": "c6caeadc-14e1-4896-9969-c7ea91ce9414",
   "metadata": {},
   "outputs": [
    {
     "name": "stdout",
     "output_type": "stream",
     "text": [
      "934/934 [==============================] - 3s 3ms/step\n"
     ]
    }
   ],
   "source": [
    "y_pred_CNN=model.predict(X_test_sequences_matrix)"
   ]
  },
  {
   "cell_type": "code",
   "execution_count": 158,
   "id": "8faa31f3-90e1-486c-9949-ebe5501efb22",
   "metadata": {},
   "outputs": [],
   "source": [
    "for i in range(len(y_pred_CNN)):\n",
    "    if y_pred_CNN[i]>0.5:\n",
    "        y_pred_CNN[i]=1\n",
    "    elif y_pred_CNN[i]<=0.5:\n",
    "        y_pred_CNN[i]=0"
   ]
  },
  {
   "cell_type": "code",
   "execution_count": 160,
   "id": "829031bb-1637-47fb-87d2-04f5caac59b2",
   "metadata": {},
   "outputs": [
    {
     "name": "stdout",
     "output_type": "stream",
     "text": [
      "[[1.]\n",
      " [1.]\n",
      " [1.]\n",
      " ...\n",
      " [0.]\n",
      " [0.]\n",
      " [1.]]\n"
     ]
    }
   ],
   "source": [
    "print(y_pred_CNN)"
   ]
  },
  {
   "cell_type": "code",
   "execution_count": 162,
   "id": "6f508d49-ffe6-47a7-ae58-b797f312441f",
   "metadata": {},
   "outputs": [],
   "source": [
    "from sklearn.metrics import confusion_matrix\n",
    "from sklearn.metrics import accuracy_score\n",
    "from sklearn.metrics import precision_score\n",
    "from sklearn.metrics import recall_score\n",
    "from sklearn.metrics import f1_score\n",
    "test_accuracy[\"CNN\"] = accuracy_score(y_test, y_pred_CNN)\n",
    "precision_dict[\"CNN\"] = precision_score(y_test, y_pred_CNN, zero_division=1)\n",
    "recall_dict[\"CNN\"]= recall_score(y_test, y_pred_CNN, zero_division=1)\n",
    "f1_dict[\"CNN\"] = f1_score(y_test, y_pred_CNN, zero_division=1)"
   ]
  },
  {
   "cell_type": "code",
   "execution_count": 164,
   "id": "3f711466-b2a1-4a0e-9aa0-2533ab96558f",
   "metadata": {},
   "outputs": [
    {
     "data": {
      "text/html": [
       "<div>\n",
       "<style scoped>\n",
       "    .dataframe tbody tr th:only-of-type {\n",
       "        vertical-align: middle;\n",
       "    }\n",
       "\n",
       "    .dataframe tbody tr th {\n",
       "        vertical-align: top;\n",
       "    }\n",
       "\n",
       "    .dataframe thead th {\n",
       "        text-align: right;\n",
       "    }\n",
       "</style>\n",
       "<table border=\"1\" class=\"dataframe\">\n",
       "  <thead>\n",
       "    <tr style=\"text-align: right;\">\n",
       "      <th></th>\n",
       "      <th>RNN</th>\n",
       "      <th>CNN</th>\n",
       "    </tr>\n",
       "  </thead>\n",
       "  <tbody>\n",
       "    <tr>\n",
       "      <th>F1_Score</th>\n",
       "      <td>0.950145</td>\n",
       "      <td>0.987064</td>\n",
       "    </tr>\n",
       "    <tr>\n",
       "      <th>Precision</th>\n",
       "      <td>0.977693</td>\n",
       "      <td>0.995415</td>\n",
       "    </tr>\n",
       "    <tr>\n",
       "      <th>Recall</th>\n",
       "      <td>0.924108</td>\n",
       "      <td>0.978852</td>\n",
       "    </tr>\n",
       "    <tr>\n",
       "      <th>Accuracy</th>\n",
       "      <td>0.948908</td>\n",
       "      <td>0.986482</td>\n",
       "    </tr>\n",
       "  </tbody>\n",
       "</table>\n",
       "</div>"
      ],
      "text/plain": [
       "                RNN       CNN\n",
       "F1_Score   0.950145  0.987064\n",
       "Precision  0.977693  0.995415\n",
       "Recall     0.924108  0.978852\n",
       "Accuracy   0.948908  0.986482"
      ]
     },
     "execution_count": 164,
     "metadata": {},
     "output_type": "execute_result"
    }
   ],
   "source": [
    "key1 = f1_dict, precision_dict, recall_dict, test_accuracy\n",
    "metrics = ['F1_Score', 'Precision', 'Recall', 'Accuracy']\n",
    "data = pd.DataFrame(key1)\n",
    "data.index = metrics\n",
    "data"
   ]
  },
  {
   "cell_type": "code",
   "execution_count": 166,
   "id": "af69f1d2-8122-48ee-934a-c436fe117e65",
   "metadata": {},
   "outputs": [
    {
     "name": "stdout",
     "output_type": "stream",
     "text": [
      "[[14070    71]\n",
      " [  333 15413]]\n"
     ]
    }
   ],
   "source": [
    "cf_matrix = confusion_matrix(y_test,y_pred_CNN)\n",
    "print(cf_matrix)"
   ]
  },
  {
   "cell_type": "code",
   "execution_count": 168,
   "id": "8f6baa85-3e31-4512-8ca3-d069ad0cdd21",
   "metadata": {},
   "outputs": [
    {
     "data": {
      "image/png": "[encoded data removed]",
      "text/plain": [
       "<Figure size 640x480 with 2 Axes>"
      ]
     },
     "metadata": {},
     "output_type": "display_data"
    }
   ],
   "source": [
    "import matplotlib.pyplot as plt\n",
    "import numpy as np\n",
    "\n",
    "# Create the heatmap\n",
    "plt.imshow(cf_matrix, cmap='Blues')\n",
    "\n",
    "# Add a color bar\n",
    "cbar = plt.colorbar()\n",
    "\n",
    "# Add labels to the x and y axes\n",
    "plt.xlabel('Predicted label')\n",
    "plt.ylabel('True label')\n",
    "\n",
    "# Add annotations (numbers) to the heatmap\n",
    "thresh = cf_matrix.max() / 2.0\n",
    "for i in range(cf_matrix.shape[0]):\n",
    "    for j in range(cf_matrix.shape[1]):\n",
    "        plt.text(j, i, format(cf_matrix[i, j],'d'),ha=\"center\", va=\"center\",color=\"white\" if cf_matrix[i, j] > thresh else \"black\")\n",
    "\n",
    "\n",
    "# Set the title\n",
    "plt.title('Confusion Matrix with Annotations')\n",
    "\n",
    "# Hide the ticks and tick labels\n",
    "plt.gca().xaxis.set_ticks_position('none') \n",
    "plt.gca().yaxis.set_ticks_position('none') \n",
    "plt.gca().xaxis.set_ticklabels([]) \n",
    "plt.gca().yaxis.set_ticklabels([])\n",
    "\n",
    "# Hide the spines (the lines that make up the box)\n",
    "for spine in plt.gca().spines.values():\n",
    "    spine.set_visible(False)\n",
    "\n",
    "# plt.axis('off')\n",
    "\n",
    "# Display the plot\n",
    "plt.show()"
   ]
  },
  {
   "cell_type": "code",
   "execution_count": 170,
   "id": "0c9911c6-b704-4f26-9478-a0c7fa6eb0c2",
   "metadata": {},
   "outputs": [
    {
     "name": "stdout",
     "output_type": "stream",
     "text": [
      "done\n"
     ]
    },
    {
     "name": "stderr",
     "output_type": "stream",
     "text": [
      "C:\\Users\\Huang\\anaconda3\\Lib\\site-packages\\keras\\src\\engine\\training.py:3103: UserWarning: You are saving your model as an HDF5 file via `model.save()`. This file format is considered legacy. We recommend using instead the native Keras format, e.g. `model.save('my_model.keras')`.\n",
      "  saving_api.save_model(\n"
     ]
    }
   ],
   "source": [
    "from keras.models import load_model\n",
    "from pathlib import Path\n",
    "\n",
    "model.save_weights(\"weights_CNNModifiedDataset.h5\")\n",
    "print('done')\n",
    "\n",
    "model.save('model_CNNModifiedDataset.h5')"
   ]
  },
  {
   "cell_type": "code",
   "execution_count": 172,
   "id": "522c8525-0533-4e06-9bd1-7c226a4110d9",
   "metadata": {},
   "outputs": [
    {
     "data": {
      "image/png": "[encoded data removed]",
      "text/plain": [
       "<Figure size 700x400 with 1 Axes>"
      ]
     },
     "metadata": {},
     "output_type": "display_data"
    }
   ],
   "source": [
    "result = data.plot(kind='bar', rot=0, figsize=(7, 4));\n",
    "result.legend(bbox_to_anchor=(1, 1), loc='upper left');"
   ]
  },
  {
   "cell_type": "code",
   "execution_count": null,
   "id": "0225f42a-5331-43a5-b0f6-ac834152be0d",
   "metadata": {},
   "outputs": [],
   "source": []
  }
 ],
 "metadata": {
  "kernelspec": {
   "display_name": "Python 3 (ipykernel)",
   "language": "python",
   "name": "python3"
  },
  "language_info": {
   "codemirror_mode": {
    "name": "ipython",
    "version": 3
   },
   "file_extension": ".py",
   "mimetype": "text/x-python",
   "name": "python",
   "nbconvert_exporter": "python",
   "pygments_lexer": "ipython3",
   "version": "3.11.5"
  }
 },
 "nbformat": 4,
 "nbformat_minor": 5
}
