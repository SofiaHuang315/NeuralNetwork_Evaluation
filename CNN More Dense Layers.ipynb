{
 "cells": [
  {
   "cell_type": "code",
   "execution_count": 1,
   "id": "8f4bf235",
   "metadata": {},
   "outputs": [
    {
     "name": "stdout",
     "output_type": "stream",
     "text": [
      "WARNING:tensorflow:From C:\\Users\\Huang\\anaconda3\\Lib\\site-packages\\keras\\src\\losses.py:2976: The name tf.losses.sparse_softmax_cross_entropy is deprecated. Please use tf.compat.v1.losses.sparse_softmax_cross_entropy instead.\n",
      "\n"
     ]
    }
   ],
   "source": [
    "import pandas as pd\n",
    "import numpy as np\n",
    "import matplotlib.pyplot as plt\n",
    "import seaborn as sns\n",
    "from sklearn.model_selection import train_test_split\n",
    "from sklearn.preprocessing import LabelEncoder\n",
    "from keras.models import Model\n",
    "from keras.layers import LSTM, Activation, Dense, Dropout, Input, Embedding\n",
    "from keras.optimizers import RMSprop\n",
    "from keras.preprocessing.text import Tokenizer\n",
    "from keras.preprocessing import sequence\n",
    "from keras.utils import to_categorical\n",
    "from keras.callbacks import EarlyStopping\n",
    "%matplotlib inline\n",
    "from keras.preprocessing.text import Tokenizer\n",
    "import tensorflow as tf\n",
    "from tensorflow.keras.utils import plot_model\n",
    "from tensorflow.keras.layers import Input, Embedding, Attention, LayerNormalization, Dense\n",
    "from sklearn import tree\n",
    "from tensorflow.keras import models, layers\n",
    "import warnings\n",
    "\n",
    "from keras.metrics import Recall\n",
    "from keras.metrics import Accuracy\n",
    "from tensorflow.keras.preprocessing.text import Tokenizer\n",
    "from tensorflow.keras.preprocessing.sequence import pad_sequences\n",
    "from sklearn.feature_extraction.text import CountVectorizer\n",
    "from sklearn.feature_extraction.text import TfidfVectorizer"
   ]
  },
  {
   "cell_type": "code",
   "execution_count": 2,
   "id": "d8e9bf44",
   "metadata": {},
   "outputs": [],
   "source": [
    "df = pd.read_csv('clean_sql_dataset.csv')"
   ]
  },
  {
   "cell_type": "code",
   "execution_count": 3,
   "id": "b7ce6adf",
   "metadata": {},
   "outputs": [
    {
     "data": {
      "text/html": [
       "<div>\n",
       "<style scoped>\n",
       "    .dataframe tbody tr th:only-of-type {\n",
       "        vertical-align: middle;\n",
       "    }\n",
       "\n",
       "    .dataframe tbody tr th {\n",
       "        vertical-align: top;\n",
       "    }\n",
       "\n",
       "    .dataframe thead th {\n",
       "        text-align: right;\n",
       "    }\n",
       "</style>\n",
       "<table border=\"1\" class=\"dataframe\">\n",
       "  <thead>\n",
       "    <tr style=\"text-align: right;\">\n",
       "      <th></th>\n",
       "      <th>Query</th>\n",
       "      <th>Label</th>\n",
       "    </tr>\n",
       "  </thead>\n",
       "  <tbody>\n",
       "    <tr>\n",
       "      <th>0</th>\n",
       "      <td>\" or pg_sleep  (  __TIME__  )  --</td>\n",
       "      <td>1</td>\n",
       "    </tr>\n",
       "    <tr>\n",
       "      <th>1</th>\n",
       "      <td>create user name identified by pass123 tempora...</td>\n",
       "      <td>1</td>\n",
       "    </tr>\n",
       "    <tr>\n",
       "      <th>2</th>\n",
       "      <td>AND 1  =  utl_inaddr.get_host_address   (    ...</td>\n",
       "      <td>1</td>\n",
       "    </tr>\n",
       "    <tr>\n",
       "      <th>3</th>\n",
       "      <td>select * from users where id  =  '1' or @ @1 ...</td>\n",
       "      <td>1</td>\n",
       "    </tr>\n",
       "    <tr>\n",
       "      <th>4</th>\n",
       "      <td>select * from users where id  =  1 or 1#\"  ( ...</td>\n",
       "      <td>1</td>\n",
       "    </tr>\n",
       "  </tbody>\n",
       "</table>\n",
       "</div>"
      ],
      "text/plain": [
       "                                               Query  Label\n",
       "0                  \" or pg_sleep  (  __TIME__  )  --      1\n",
       "1  create user name identified by pass123 tempora...      1\n",
       "2   AND 1  =  utl_inaddr.get_host_address   (    ...      1\n",
       "3   select * from users where id  =  '1' or @ @1 ...      1\n",
       "4   select * from users where id  =  1 or 1#\"  ( ...      1"
      ]
     },
     "execution_count": 3,
     "metadata": {},
     "output_type": "execute_result"
    }
   ],
   "source": [
    "df.head()"
   ]
  },
  {
   "cell_type": "code",
   "execution_count": 4,
   "id": "f7b5e0f4",
   "metadata": {},
   "outputs": [
    {
     "name": "stdout",
     "output_type": "stream",
     "text": [
      "<class 'pandas.core.frame.DataFrame'>\n",
      "RangeIndex: 148325 entries, 0 to 148324\n",
      "Data columns (total 2 columns):\n",
      " #   Column  Non-Null Count   Dtype \n",
      "---  ------  --------------   ----- \n",
      " 0   Query   148325 non-null  object\n",
      " 1   Label   148325 non-null  int64 \n",
      "dtypes: int64(1), object(1)\n",
      "memory usage: 2.3+ MB\n"
     ]
    }
   ],
   "source": [
    "df.info()"
   ]
  },
  {
   "cell_type": "code",
   "execution_count": 5,
   "id": "57c9129f",
   "metadata": {},
   "outputs": [],
   "source": [
    "df.dropna(inplace=True)"
   ]
  },
  {
   "cell_type": "code",
   "execution_count": 6,
   "id": "ac5c9d02",
   "metadata": {},
   "outputs": [],
   "source": [
    "X=df['Query']\n",
    "y=df['Label']"
   ]
  },
  {
   "cell_type": "code",
   "execution_count": 7,
   "id": "e314fb6c",
   "metadata": {},
   "outputs": [
    {
     "data": {
      "text/plain": [
       "611635"
      ]
     },
     "execution_count": 7,
     "metadata": {},
     "output_type": "execute_result"
    }
   ],
   "source": [
    "max_words = len(list(X.str.split(' ', expand=True).stack().unique()))\n",
    "max_words"
   ]
  },
  {
   "cell_type": "code",
   "execution_count": 8,
   "id": "31be5e0a",
   "metadata": {},
   "outputs": [],
   "source": [
    "X_train, X_test, y_train, y_test = train_test_split(X, y, test_size=0.2, random_state=42)"
   ]
  },
  {
   "cell_type": "code",
   "execution_count": 9,
   "id": "0ae6fe56",
   "metadata": {},
   "outputs": [],
   "source": [
    "max_words = 611635\n",
    "max_len = 150\n",
    "tok = Tokenizer(num_words=max_words)\n",
    "tok.fit_on_texts(X_train)\n",
    "sequences = tok.texts_to_sequences(X_train)\n",
    "sequences_matrix = sequence.pad_sequences(sequences,maxlen=max_len)"
   ]
  },
  {
   "cell_type": "code",
   "execution_count": 10,
   "id": "1e5f1dc2",
   "metadata": {},
   "outputs": [
    {
     "name": "stdout",
     "output_type": "stream",
     "text": [
      "WARNING:tensorflow:From C:\\Users\\Huang\\anaconda3\\Lib\\site-packages\\keras\\src\\backend.py:873: The name tf.get_default_graph is deprecated. Please use tf.compat.v1.get_default_graph instead.\n",
      "\n",
      "WARNING:tensorflow:From C:\\Users\\Huang\\anaconda3\\Lib\\site-packages\\keras\\src\\backend.py:6642: The name tf.nn.max_pool is deprecated. Please use tf.nn.max_pool2d instead.\n",
      "\n"
     ]
    }
   ],
   "source": [
    "from keras.models import Sequential\n",
    "model = Sequential(name=\"CNN\")\n",
    "model.add(Embedding(max_words,100,input_length=max_len))\n",
    "model.add(layers.Conv1D(filters=32, kernel_size=4, activation='relu'))\n",
    "model.add(layers.MaxPooling1D(pool_size=2))\n",
    "model.add(layers.Conv1D(filters=64, kernel_size=4, activation='relu'))\n",
    "model.add(layers.MaxPooling1D(pool_size=2))\n",
    "model.add(layers.Conv1D(filters=128, kernel_size=4, activation='relu'))\n",
    "model.add(layers.MaxPooling1D(pool_size=2))\n",
    "model.add(layers.Flatten())\n",
    "model.add(layers.Dense(256, activation = 'relu'))\n",
    "model.add(layers.Dense(128, activation = 'relu'))\n",
    "model.add(layers.Dense(64, activation = 'relu'))"
   ]
  },
  {
   "cell_type": "code",
   "execution_count": 11,
   "id": "545e962b",
   "metadata": {},
   "outputs": [
    {
     "name": "stdout",
     "output_type": "stream",
     "text": [
      "Model: \"CNN\"\n",
      "_________________________________________________________________\n",
      " Layer (type)                Output Shape              Param #   \n",
      "=================================================================\n",
      " embedding (Embedding)       (None, 150, 100)          61163500  \n",
      "                                                                 \n",
      " conv1d (Conv1D)             (None, 147, 32)           12832     \n",
      "                                                                 \n",
      " max_pooling1d (MaxPooling1  (None, 73, 32)            0         \n",
      " D)                                                              \n",
      "                                                                 \n",
      " conv1d_1 (Conv1D)           (None, 70, 64)            8256      \n",
      "                                                                 \n",
      " max_pooling1d_1 (MaxPoolin  (None, 35, 64)            0         \n",
      " g1D)                                                            \n",
      "                                                                 \n",
      " conv1d_2 (Conv1D)           (None, 32, 128)           32896     \n",
      "                                                                 \n",
      " max_pooling1d_2 (MaxPoolin  (None, 16, 128)           0         \n",
      " g1D)                                                            \n",
      "                                                                 \n",
      " flatten (Flatten)           (None, 2048)              0         \n",
      "                                                                 \n",
      " dense (Dense)               (None, 256)               524544    \n",
      "                                                                 \n",
      " dense_1 (Dense)             (None, 128)               32896     \n",
      "                                                                 \n",
      " dense_2 (Dense)             (None, 64)                8256      \n",
      "                                                                 \n",
      " dense_3 (Dense)             (None, 1)                 65        \n",
      "                                                                 \n",
      "=================================================================\n",
      "Total params: 61783245 (235.68 MB)\n",
      "Trainable params: 61783245 (235.68 MB)\n",
      "Non-trainable params: 0 (0.00 Byte)\n",
      "_________________________________________________________________\n",
      "WARNING:tensorflow:From C:\\Users\\Huang\\anaconda3\\Lib\\site-packages\\keras\\src\\optimizers\\__init__.py:309: The name tf.train.Optimizer is deprecated. Please use tf.compat.v1.train.Optimizer instead.\n",
      "\n"
     ]
    }
   ],
   "source": [
    "model.add(layers.Dense(1, activation = 'relu'))\n",
    "model.summary()\n",
    "model.compile(optimizer = 'adam', loss = tf.keras.losses.BinaryCrossentropy(), metrics = ['accuracy'])"
   ]
  },
  {
   "cell_type": "code",
   "execution_count": 12,
   "id": "0e752024",
   "metadata": {},
   "outputs": [
    {
     "name": "stdout",
     "output_type": "stream",
     "text": [
      "Epoch 1/50\n",
      "WARNING:tensorflow:From C:\\Users\\Huang\\anaconda3\\Lib\\site-packages\\keras\\src\\utils\\tf_utils.py:492: The name tf.ragged.RaggedTensorValue is deprecated. Please use tf.compat.v1.ragged.RaggedTensorValue instead.\n",
      "\n",
      "WARNING:tensorflow:From C:\\Users\\Huang\\anaconda3\\Lib\\site-packages\\keras\\src\\engine\\base_layer_utils.py:384: The name tf.executing_eagerly_outside_functions is deprecated. Please use tf.compat.v1.executing_eagerly_outside_functions instead.\n",
      "\n",
      "186/186 [==============================] - 103s 538ms/step - loss: 0.3475 - accuracy: 0.8366 - val_loss: 0.0578 - val_accuracy: 0.9865\n",
      "Epoch 2/50\n",
      "186/186 [==============================] - 92s 492ms/step - loss: 0.0441 - accuracy: 0.9908 - val_loss: 0.0529 - val_accuracy: 0.9885\n",
      "Epoch 3/50\n",
      "186/186 [==============================] - 73s 392ms/step - loss: 0.0311 - accuracy: 0.9934 - val_loss: 0.0532 - val_accuracy: 0.9886\n",
      "Epoch 4/50\n",
      "186/186 [==============================] - 72s 389ms/step - loss: 0.0212 - accuracy: 0.9958 - val_loss: 0.0737 - val_accuracy: 0.9888\n",
      "Epoch 5/50\n",
      "186/186 [==============================] - 74s 397ms/step - loss: 0.0182 - accuracy: 0.9971 - val_loss: 0.0789 - val_accuracy: 0.9885\n"
     ]
    }
   ],
   "source": [
    "callbacks = EarlyStopping(monitor='val_loss', min_delta=0.0001, patience=3)\n",
    "history = model.fit(sequences_matrix,y_train, batch_size=512, epochs=50,\n",
    "                   validation_split=0.2,callbacks=[callbacks])"
   ]
  },
  {
   "cell_type": "code",
   "execution_count": 13,
   "id": "e264a879",
   "metadata": {},
   "outputs": [],
   "source": [
    "X_test_sequences = tok.texts_to_sequences(X_test)\n",
    "X_test_sequences_matrix = sequence.pad_sequences(X_test_sequences,maxlen=max_len)"
   ]
  },
  {
   "cell_type": "code",
   "execution_count": 14,
   "id": "ef1a3dbe",
   "metadata": {},
   "outputs": [
    {
     "name": "stdout",
     "output_type": "stream",
     "text": [
      "928/928 [==============================] - 4s 4ms/step\n"
     ]
    }
   ],
   "source": [
    "y_pred=model.predict(X_test_sequences_matrix)"
   ]
  },
  {
   "cell_type": "code",
   "execution_count": 15,
   "id": "ec8fad12",
   "metadata": {},
   "outputs": [
    {
     "name": "stdout",
     "output_type": "stream",
     "text": [
      "[[ 8.350714]\n",
      " [10.833302]\n",
      " [ 0.      ]\n",
      " ...\n",
      " [ 0.      ]\n",
      " [ 0.      ]\n",
      " [ 2.364482]]\n"
     ]
    }
   ],
   "source": [
    "print(y_pred)"
   ]
  },
  {
   "cell_type": "code",
   "execution_count": 16,
   "id": "fd317600",
   "metadata": {},
   "outputs": [],
   "source": [
    "for i in range(len(y_pred)):\n",
    "    if y_pred[i]>0.5:\n",
    "        y_pred[i]=1\n",
    "    elif y_pred[i]<=0.5:\n",
    "        y_pred[i]=0"
   ]
  },
  {
   "cell_type": "code",
   "execution_count": 17,
   "id": "124b81ec",
   "metadata": {},
   "outputs": [
    {
     "name": "stdout",
     "output_type": "stream",
     "text": [
      "[[1.]\n",
      " [1.]\n",
      " [0.]\n",
      " ...\n",
      " [0.]\n",
      " [0.]\n",
      " [1.]]\n"
     ]
    }
   ],
   "source": [
    "print(y_pred)"
   ]
  },
  {
   "cell_type": "code",
   "execution_count": 18,
   "id": "fa3c2666",
   "metadata": {},
   "outputs": [
    {
     "name": "stdout",
     "output_type": "stream",
     "text": [
      " Accuracy : 0.9869880330355638 \n",
      " Precision : 0.9981552246672816 \n",
      " Recall : 0.9769151405726076 \n",
      " F1 : 0.9874209737339503\n"
     ]
    }
   ],
   "source": [
    "from sklearn.metrics import confusion_matrix\n",
    "from sklearn.metrics import accuracy_score\n",
    "from sklearn.metrics import precision_score\n",
    "from sklearn.metrics import recall_score\n",
    "from sklearn.metrics import f1_score\n",
    "confusion_matrix(y_test, y_pred)  \n",
    "plt.show()\n",
    "accuracy= accuracy_score(y_test, y_pred)\n",
    "precision= precision_score(y_test, y_pred, zero_division=1)\n",
    "recall= recall_score(y_test, y_pred, zero_division=1)\n",
    "f1_score= f1_score(y_test, y_pred, zero_division=1)\n",
    "print(\" Accuracy : {0} \\n Precision : {1} \\n Recall : {2} \\n F1 : {3}\".format(accuracy, precision, recall, f1_score))"
   ]
  },
  {
   "cell_type": "code",
   "execution_count": 19,
   "id": "573f0739",
   "metadata": {},
   "outputs": [
    {
     "name": "stdout",
     "output_type": "stream",
     "text": [
      "[[14129    28]\n",
      " [  358 15150]]\n"
     ]
    }
   ],
   "source": [
    "cf_matrix = confusion_matrix(y_test, y_pred)\n",
    "print(cf_matrix)"
   ]
  },
  {
   "cell_type": "code",
   "execution_count": 20,
   "id": "53fd1b0f",
   "metadata": {},
   "outputs": [
    {
     "data": {
      "text/plain": [
       "<Axes: >"
      ]
     },
     "execution_count": 20,
     "metadata": {},
     "output_type": "execute_result"
    },
    {
     "data": {
      "image/png": "[encoded data removed]",
      "text/plain": [
       "<Figure size 640x480 with 2 Axes>"
      ]
     },
     "metadata": {},
     "output_type": "display_data"
    }
   ],
   "source": [
    "import seaborn as sns\n",
    "sns.heatmap(cf_matrix, annot=True)"
   ]
  },
  {
   "cell_type": "code",
   "execution_count": 21,
   "id": "9bac799a",
   "metadata": {},
   "outputs": [
    {
     "name": "stdout",
     "output_type": "stream",
     "text": [
      "done\n"
     ]
    },
    {
     "name": "stderr",
     "output_type": "stream",
     "text": [
      "C:\\Users\\Huang\\anaconda3\\Lib\\site-packages\\keras\\src\\engine\\training.py:3103: UserWarning: You are saving your model as an HDF5 file via `model.save()`. This file format is considered legacy. We recommend using instead the native Keras format, e.g. `model.save('my_model.keras')`.\n",
      "  saving_api.save_model(\n"
     ]
    }
   ],
   "source": [
    "from keras.models import load_model\n",
    "from pathlib import Path\n",
    "\n",
    "model.save_weights(\"lstm_weights_bigdatasetCNNDenseLayersAdded.h5\")\n",
    "print('done')\n",
    "\n",
    "model.save('lstm_weights_bigdatasetCNNDenseLayersAdded.h5')"
   ]
  },
  {
   "cell_type": "code",
   "execution_count": 22,
   "id": "36f74513",
   "metadata": {},
   "outputs": [],
   "source": [
    "loaded_model = tf.keras.models.load_model('lstm_weights_bigdatasetCNNDenseLayersAdded.h5')\n",
    "loaded_model.load_weights('lstm_weights_bigdatasetCNNDenseLayersAdded.h5')"
   ]
  },
  {
   "cell_type": "code",
   "execution_count": 23,
   "id": "78ec3b3b",
   "metadata": {},
   "outputs": [],
   "source": [
    "def clean_data(input_val):\n",
    "\n",
    "    txts = tok.texts_to_sequences(input_val)\n",
    "    input_val = sequence.pad_sequences(txts, maxlen=max_len)\n",
    "\n",
    "    return input_val\n",
    "\n",
    "\n",
    "def predict_sqli_attack():\n",
    "    \n",
    "    repeat=True\n",
    "    \n",
    "    space=''\n",
    "    for i in range(20):\n",
    "        space+= \"-\"\n",
    "\n",
    "    print(space) \n",
    "    input_val=input(\"Please enter some data: \")\n",
    "    print(space)\n",
    "\n",
    "    \n",
    "    if input_val== '0':\n",
    "        repeat=False\n",
    "    \n",
    "    sample_texts_list = []\n",
    "    sample_texts_list.append(input_val)\n",
    "    txts = tok.texts_to_sequences(sample_texts_list)\n",
    "    txts = sequence.pad_sequences(txts, maxlen=max_len)\n",
    "\n",
    "    result=loaded_model.predict(txts)\n",
    "    print(result)\n",
    "\n",
    "\n",
    "    print(space)\n",
    "    \n",
    "    \n",
    "    if repeat == True:\n",
    "            if result > 0.5:\n",
    "                 print(\"ALERT! This can be SQL injection\")\n",
    "            elif result <= 0.5:\n",
    "                 print(\"It seems to be a benign\")\n",
    "            \n",
    "            print(space)\n",
    "        \n",
    "            predict_sqli_attack()\n",
    "            \n",
    "    elif repeat == False:\n",
    "        print( \" Closing \")"
   ]
  },
  {
   "cell_type": "code",
   "execution_count": 24,
   "id": "6c8f79ae",
   "metadata": {},
   "outputs": [
    {
     "name": "stdout",
     "output_type": "stream",
     "text": [
      "--------------------\n",
      "Please enter some data: '\n",
      "--------------------\n",
      "1/1 [==============================] - 0s 180ms/step\n",
      "[[0.03884553]]\n",
      "--------------------\n",
      "It seems to be a benign\n",
      "--------------------\n",
      "--------------------\n",
      "Please enter some data: ' '\n",
      "--------------------\n",
      "1/1 [==============================] - 0s 40ms/step\n",
      "[[0.61065793]]\n",
      "--------------------\n",
      "ALERT! This can be SQL injection\n",
      "--------------------\n",
      "--------------------\n",
      "Please enter some data: \" \"\n",
      "--------------------\n",
      "1/1 [==============================] - 0s 34ms/step\n",
      "[[0.03884553]]\n",
      "--------------------\n",
      "It seems to be a benign\n",
      "--------------------\n",
      "--------------------\n",
      "Please enter some data: / /\n",
      "--------------------\n",
      "1/1 [==============================] - 0s 40ms/step\n",
      "[[0.03884553]]\n",
      "--------------------\n",
      "It seems to be a benign\n",
      "--------------------\n",
      "--------------------\n",
      "Please enter some data: //\n",
      "--------------------\n",
      "1/1 [==============================] - 0s 33ms/step\n",
      "[[0.03884553]]\n",
      "--------------------\n",
      "It seems to be a benign\n",
      "--------------------\n",
      "--------------------\n",
      "Please enter some data: www.sample.com/id=100'\n",
      "--------------------\n",
      "1/1 [==============================] - 0s 32ms/step\n",
      "[[0.]]\n",
      "--------------------\n",
      "It seems to be a benign\n",
      "--------------------\n",
      "--------------------\n",
      "Please enter some data: id=1'\n",
      "--------------------\n",
      "1/1 [==============================] - 0s 32ms/step\n",
      "[[0.02983132]]\n",
      "--------------------\n",
      "It seems to be a benign\n",
      "--------------------\n",
      "--------------------\n",
      "Please enter some data: id=100' or 1=1\n",
      "--------------------\n",
      "1/1 [==============================] - 0s 32ms/step\n",
      "[[1.0812538]]\n",
      "--------------------\n",
      "ALERT! This can be SQL injection\n",
      "--------------------\n",
      "--------------------\n",
      "Please enter some data: or 1=1\n",
      "--------------------\n",
      "1/1 [==============================] - 0s 40ms/step\n",
      "[[1.1436232]]\n",
      "--------------------\n",
      "ALERT! This can be SQL injection\n",
      "--------------------\n",
      "--------------------\n",
      "Please enter some data: or 1=1'\n",
      "--------------------\n",
      "1/1 [==============================] - 0s 26ms/step\n",
      "[[1.1436232]]\n",
      "--------------------\n",
      "ALERT! This can be SQL injection\n",
      "--------------------\n",
      "--------------------\n",
      "Please enter some data: 0\n",
      "--------------------\n",
      "1/1 [==============================] - 0s 41ms/step\n",
      "[[0.03884553]]\n",
      "--------------------\n",
      " Closing \n"
     ]
    }
   ],
   "source": [
    "predict_sqli_attack()"
   ]
  },
  {
   "cell_type": "code",
   "execution_count": null,
   "id": "032f8a36",
   "metadata": {},
   "outputs": [],
   "source": []
  }
 ],
 "metadata": {
  "kernelspec": {
   "display_name": "Python 3 (ipykernel)",
   "language": "python",
   "name": "python3"
  },
  "language_info": {
   "codemirror_mode": {
    "name": "ipython",
    "version": 3
   },
   "file_extension": ".py",
   "mimetype": "text/x-python",
   "name": "python",
   "nbconvert_exporter": "python",
   "pygments_lexer": "ipython3",
   "version": "3.11.5"
  }
 },
 "nbformat": 4,
 "nbformat_minor": 5
}
