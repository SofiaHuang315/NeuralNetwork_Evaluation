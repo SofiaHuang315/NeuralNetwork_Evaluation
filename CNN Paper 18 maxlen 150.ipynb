{
 "cells": [
  {
   "cell_type": "code",
   "execution_count": 1,
   "id": "0563ce67",
   "metadata": {},
   "outputs": [
    {
     "name": "stdout",
     "output_type": "stream",
     "text": [
      "WARNING:tensorflow:From C:\\Users\\Huang\\anaconda3\\Lib\\site-packages\\keras\\src\\losses.py:2976: The name tf.losses.sparse_softmax_cross_entropy is deprecated. Please use tf.compat.v1.losses.sparse_softmax_cross_entropy instead.\n",
      "\n"
     ]
    }
   ],
   "source": [
    "import pandas as pd\n",
    "import numpy as np\n",
    "import matplotlib.pyplot as plt\n",
    "import seaborn as sns\n",
    "from sklearn.model_selection import train_test_split\n",
    "from sklearn.preprocessing import LabelEncoder\n",
    "from keras.models import Model\n",
    "from keras.layers import LSTM, Activation, Dense, Dropout, Input, Embedding\n",
    "from keras.optimizers import RMSprop\n",
    "from keras.preprocessing.text import Tokenizer\n",
    "from keras.preprocessing import sequence\n",
    "from keras.utils import to_categorical\n",
    "from keras.callbacks import EarlyStopping\n",
    "%matplotlib inline\n",
    "from keras.preprocessing.text import Tokenizer\n",
    "import tensorflow as tf\n",
    "from tensorflow.keras.utils import plot_model\n",
    "from tensorflow.keras.layers import Input, Embedding, Attention, LayerNormalization, Dense\n",
    "from sklearn import tree\n",
    "from tensorflow.keras import models, layers\n",
    "import warnings\n",
    "\n",
    "from keras.metrics import Recall\n",
    "from keras.metrics import Accuracy\n",
    "from tensorflow.keras.preprocessing.text import Tokenizer\n",
    "from tensorflow.keras.preprocessing.sequence import pad_sequences\n",
    "from sklearn.feature_extraction.text import CountVectorizer\n",
    "from sklearn.feature_extraction.text import TfidfVectorizer\n",
    "\n",
    "import keras.models\n",
    "from keras.models import Sequential "
   ]
  },
  {
   "cell_type": "code",
   "execution_count": 2,
   "id": "121fbaf8",
   "metadata": {},
   "outputs": [],
   "source": [
    "df = pd.read_csv('clean_sql_dataset.csv')"
   ]
  },
  {
   "cell_type": "code",
   "execution_count": 3,
   "id": "d3753c96",
   "metadata": {},
   "outputs": [
    {
     "name": "stdout",
     "output_type": "stream",
     "text": [
      "<class 'pandas.core.frame.DataFrame'>\n",
      "RangeIndex: 148325 entries, 0 to 148324\n",
      "Data columns (total 2 columns):\n",
      " #   Column  Non-Null Count   Dtype \n",
      "---  ------  --------------   ----- \n",
      " 0   Query   148325 non-null  object\n",
      " 1   Label   148325 non-null  int64 \n",
      "dtypes: int64(1), object(1)\n",
      "memory usage: 2.3+ MB\n"
     ]
    }
   ],
   "source": [
    "df.info()"
   ]
  },
  {
   "cell_type": "code",
   "execution_count": 4,
   "id": "ba3a59eb",
   "metadata": {},
   "outputs": [],
   "source": [
    "df.dropna(inplace=True)"
   ]
  },
  {
   "cell_type": "code",
   "execution_count": 5,
   "id": "00150b49",
   "metadata": {},
   "outputs": [],
   "source": [
    "X=df['Query']\n",
    "y=df['Label']"
   ]
  },
  {
   "cell_type": "code",
   "execution_count": 6,
   "id": "b86bbaba",
   "metadata": {},
   "outputs": [
    {
     "data": {
      "text/plain": [
       "611635"
      ]
     },
     "execution_count": 6,
     "metadata": {},
     "output_type": "execute_result"
    }
   ],
   "source": [
    "max_words = len(list(X.str.split(' ', expand=True).stack().unique()))\n",
    "max_words"
   ]
  },
  {
   "cell_type": "code",
   "execution_count": 7,
   "id": "84b5a636",
   "metadata": {},
   "outputs": [],
   "source": [
    "X_train, X_test, y_train, y_test = train_test_split(X, y, test_size=0.2, random_state=42)"
   ]
  },
  {
   "cell_type": "code",
   "execution_count": 8,
   "id": "5e4f9b0e",
   "metadata": {},
   "outputs": [],
   "source": [
    "max_words = 611635\n",
    "max_len = 150\n",
    "tok = Tokenizer(num_words=max_words)\n",
    "tok.fit_on_texts(X_train)\n",
    "sequences = tok.texts_to_sequences(X_train)\n",
    "sequences_matrix = sequence.pad_sequences(sequences,maxlen=max_len)"
   ]
  },
  {
   "cell_type": "code",
   "execution_count": 9,
   "id": "3d0f9ac7",
   "metadata": {},
   "outputs": [
    {
     "name": "stdout",
     "output_type": "stream",
     "text": [
      "WARNING:tensorflow:From C:\\Users\\Huang\\anaconda3\\Lib\\site-packages\\keras\\src\\backend.py:1398: The name tf.executing_eagerly_outside_functions is deprecated. Please use tf.compat.v1.executing_eagerly_outside_functions instead.\n",
      "\n",
      "WARNING:tensorflow:From C:\\Users\\Huang\\anaconda3\\Lib\\site-packages\\keras\\src\\backend.py:6642: The name tf.nn.max_pool is deprecated. Please use tf.nn.max_pool2d instead.\n",
      "\n",
      "Model: \"CNN\"\n",
      "_________________________________________________________________\n",
      " Layer (type)                Output Shape              Param #   \n",
      "=================================================================\n",
      " embedding (Embedding)       (None, 150, 100)          61163500  \n",
      "                                                                 \n",
      " conv1d (Conv1D)             (None, 147, 32)           12832     \n",
      "                                                                 \n",
      " max_pooling1d (MaxPooling1  (None, 73, 32)            0         \n",
      " D)                                                              \n",
      "                                                                 \n",
      " conv1d_1 (Conv1D)           (None, 70, 64)            8256      \n",
      "                                                                 \n",
      " max_pooling1d_1 (MaxPoolin  (None, 35, 64)            0         \n",
      " g1D)                                                            \n",
      "                                                                 \n",
      " conv1d_2 (Conv1D)           (None, 32, 128)           32896     \n",
      "                                                                 \n",
      " max_pooling1d_2 (MaxPoolin  (None, 16, 128)           0         \n",
      " g1D)                                                            \n",
      "                                                                 \n",
      " flatten (Flatten)           (None, 2048)              0         \n",
      "                                                                 \n",
      " reshape (Reshape)           (None, 32, 64)            0         \n",
      "                                                                 \n",
      " lstm (LSTM)                 (None, 64)                33024     \n",
      "                                                                 \n",
      " dense (Dense)               (None, 512)               33280     \n",
      "                                                                 \n",
      " dropout (Dropout)           (None, 512)               0         \n",
      "                                                                 \n",
      " dense_1 (Dense)             (None, 64)                32832     \n",
      "                                                                 \n",
      " dense_2 (Dense)             (None, 1)                 65        \n",
      "                                                                 \n",
      "=================================================================\n",
      "Total params: 61316685 (233.90 MB)\n",
      "Trainable params: 61316685 (233.90 MB)\n",
      "Non-trainable params: 0 (0.00 Byte)\n",
      "_________________________________________________________________\n"
     ]
    }
   ],
   "source": [
    "from keras.models import Sequential\n",
    "from keras.layers import InputLayer, Embedding, Conv1D, MaxPooling1D, Flatten, LSTM, Dense, Dropout, Reshape\n",
    "\n",
    "model = Sequential(name=\"CNN\")\n",
    "model.add(InputLayer(input_shape=(max_len,)))\n",
    "model.add(Embedding(max_words,100,input_length=max_len))\n",
    "model.add(layers.Conv1D(filters=32, kernel_size=4, activation='relu'))\n",
    "model.add(layers.MaxPooling1D(pool_size=2))\n",
    "model.add(layers.Conv1D(filters=64, kernel_size=4, activation='relu'))\n",
    "model.add(layers.MaxPooling1D(pool_size=2))\n",
    "model.add(layers.Conv1D(filters=128, kernel_size=4, activation='relu'))\n",
    "model.add(layers.MaxPooling1D(pool_size=2))\n",
    "model.add(layers.Flatten())\n",
    "model.add(Reshape((32, -1)))\n",
    "model.add(LSTM(64))\n",
    "model.add(layers.Dense(512, activation = 'relu'))\n",
    "model.add(Dropout(0.2))\n",
    "model.add(layers.Dense(64, activation = 'relu'))\n",
    "model.add(Dense(1,activation=\"sigmoid\"))\n",
    "model.summary()"
   ]
  },
  {
   "cell_type": "code",
   "execution_count": 10,
   "id": "c84a129b",
   "metadata": {},
   "outputs": [
    {
     "name": "stdout",
     "output_type": "stream",
     "text": [
      "WARNING:tensorflow:From C:\\Users\\Huang\\anaconda3\\Lib\\site-packages\\keras\\src\\optimizers\\__init__.py:309: The name tf.train.Optimizer is deprecated. Please use tf.compat.v1.train.Optimizer instead.\n",
      "\n"
     ]
    }
   ],
   "source": [
    "model.compile(optimizer = 'adam', loss = tf.keras.losses.BinaryCrossentropy(), metrics = ['accuracy'])"
   ]
  },
  {
   "cell_type": "code",
   "execution_count": 11,
   "id": "2554b34b",
   "metadata": {},
   "outputs": [
    {
     "name": "stdout",
     "output_type": "stream",
     "text": [
      "Epoch 1/20\n",
      "WARNING:tensorflow:From C:\\Users\\Huang\\anaconda3\\Lib\\site-packages\\keras\\src\\utils\\tf_utils.py:492: The name tf.ragged.RaggedTensorValue is deprecated. Please use tf.compat.v1.ragged.RaggedTensorValue instead.\n",
      "\n",
      "WARNING:tensorflow:From C:\\Users\\Huang\\anaconda3\\Lib\\site-packages\\keras\\src\\engine\\base_layer_utils.py:384: The name tf.executing_eagerly_outside_functions is deprecated. Please use tf.compat.v1.executing_eagerly_outside_functions instead.\n",
      "\n",
      "186/186 [==============================] - 116s 596ms/step - loss: 0.1546 - accuracy: 0.9327 - val_loss: 0.0484 - val_accuracy: 0.9886\n",
      "Epoch 2/20\n",
      "186/186 [==============================] - 110s 590ms/step - loss: 0.0334 - accuracy: 0.9923 - val_loss: 0.0444 - val_accuracy: 0.9879\n",
      "Epoch 3/20\n",
      "186/186 [==============================] - 110s 592ms/step - loss: 0.0200 - accuracy: 0.9951 - val_loss: 0.0512 - val_accuracy: 0.9876\n",
      "Epoch 4/20\n",
      "186/186 [==============================] - 109s 586ms/step - loss: 0.0118 - accuracy: 0.9970 - val_loss: 0.0588 - val_accuracy: 0.9874\n",
      "Epoch 5/20\n",
      "186/186 [==============================] - 208s 1s/step - loss: 0.0116 - accuracy: 0.9971 - val_loss: 0.0636 - val_accuracy: 0.9858\n"
     ]
    }
   ],
   "source": [
    "callbacks = EarlyStopping(monitor='val_loss', min_delta=0.0001, patience=3)\n",
    "history = model.fit(sequences_matrix,y_train, batch_size=512, epochs=20,\n",
    "                   validation_split=0.2,callbacks=[callbacks])"
   ]
  },
  {
   "cell_type": "code",
   "execution_count": 12,
   "id": "9db6ff7c",
   "metadata": {},
   "outputs": [],
   "source": [
    "X_test_sequences = tok.texts_to_sequences(X_test)\n",
    "X_test_sequences_matrix = sequence.pad_sequences(X_test_sequences,maxlen=max_len)"
   ]
  },
  {
   "cell_type": "code",
   "execution_count": 13,
   "id": "44131d47",
   "metadata": {},
   "outputs": [
    {
     "name": "stdout",
     "output_type": "stream",
     "text": [
      "928/928 [==============================] - 25s 23ms/step\n"
     ]
    }
   ],
   "source": [
    "y_pred=model.predict(X_test_sequences_matrix)"
   ]
  },
  {
   "cell_type": "code",
   "execution_count": 14,
   "id": "0ba350c3",
   "metadata": {},
   "outputs": [
    {
     "name": "stdout",
     "output_type": "stream",
     "text": [
      "[[1.0000000e+00]\n",
      " [1.0000000e+00]\n",
      " [2.0679909e-05]\n",
      " ...\n",
      " [8.7963982e-04]\n",
      " [2.1549074e-04]\n",
      " [1.0000000e+00]]\n"
     ]
    }
   ],
   "source": [
    "print(y_pred)"
   ]
  },
  {
   "cell_type": "code",
   "execution_count": 15,
   "id": "96749ce5",
   "metadata": {},
   "outputs": [],
   "source": [
    "for i in range(len(y_pred)):\n",
    "    if y_pred[i]>0.5:\n",
    "        y_pred[i]=1\n",
    "    elif y_pred[i]<=0.5:\n",
    "        y_pred[i]=0"
   ]
  },
  {
   "cell_type": "code",
   "execution_count": 16,
   "id": "fc92cc60",
   "metadata": {},
   "outputs": [
    {
     "name": "stdout",
     "output_type": "stream",
     "text": [
      "[[1.]\n",
      " [1.]\n",
      " [0.]\n",
      " ...\n",
      " [0.]\n",
      " [0.]\n",
      " [1.]]\n"
     ]
    }
   ],
   "source": [
    "print(y_pred)"
   ]
  },
  {
   "cell_type": "code",
   "execution_count": 17,
   "id": "fd8b57de",
   "metadata": {},
   "outputs": [
    {
     "name": "stdout",
     "output_type": "stream",
     "text": [
      " Accuracy : 0.9857070621945053 \n",
      " Precision : 0.9905684922596592 \n",
      " Recall : 0.982009285530049 \n",
      " F1 : 0.9862703192798394\n"
     ]
    }
   ],
   "source": [
    "from sklearn.metrics import confusion_matrix\n",
    "from sklearn.metrics import accuracy_score\n",
    "from sklearn.metrics import precision_score\n",
    "from sklearn.metrics import recall_score\n",
    "from sklearn.metrics import f1_score\n",
    "confusion_matrix(y_test, y_pred)  \n",
    "plt.show()\n",
    "accuracy= accuracy_score(y_test, y_pred)\n",
    "precision= precision_score(y_test, y_pred, zero_division=1)\n",
    "recall= recall_score(y_test, y_pred, zero_division=1)\n",
    "f1_score= f1_score(y_test, y_pred, zero_division=1)\n",
    "print(\" Accuracy : {0} \\n Precision : {1} \\n Recall : {2} \\n F1 : {3}\".format(accuracy, precision, recall, f1_score))"
   ]
  },
  {
   "cell_type": "code",
   "execution_count": 18,
   "id": "4519cf7a",
   "metadata": {},
   "outputs": [
    {
     "name": "stdout",
     "output_type": "stream",
     "text": [
      "[[14012   145]\n",
      " [  279 15229]]\n"
     ]
    }
   ],
   "source": [
    "cf_matrix = confusion_matrix(y_test, y_pred)\n",
    "print(cf_matrix)"
   ]
  },
  {
   "cell_type": "code",
   "execution_count": 19,
   "id": "4691748d",
   "metadata": {},
   "outputs": [
    {
     "data": {
      "text/plain": [
       "<Axes: >"
      ]
     },
     "execution_count": 19,
     "metadata": {},
     "output_type": "execute_result"
    },
    {
     "data": {
      "image/png": "[encoded data removed]",
      "text/plain": [
       "<Figure size 640x480 with 2 Axes>"
      ]
     },
     "metadata": {},
     "output_type": "display_data"
    }
   ],
   "source": [
    "import seaborn as sns\n",
    "sns.heatmap(cf_matrix, annot=True)"
   ]
  },
  {
   "cell_type": "code",
   "execution_count": 20,
   "id": "d21d8217",
   "metadata": {},
   "outputs": [
    {
     "name": "stdout",
     "output_type": "stream",
     "text": [
      "done\n"
     ]
    },
    {
     "name": "stderr",
     "output_type": "stream",
     "text": [
      "C:\\Users\\Huang\\anaconda3\\Lib\\site-packages\\keras\\src\\engine\\training.py:3103: UserWarning: You are saving your model as an HDF5 file via `model.save()`. This file format is considered legacy. We recommend using instead the native Keras format, e.g. `model.save('my_model.keras')`.\n",
      "  saving_api.save_model(\n"
     ]
    }
   ],
   "source": [
    "from keras.models import load_model\n",
    "from pathlib import Path\n",
    "\n",
    "model.save_weights(\"BigdatasetCNNwithLSTMPaper18ML150.h5\")\n",
    "print('done')\n",
    "\n",
    "model.save('BigdatasetCNNwithLSTMPaper18ML150.h5')"
   ]
  },
  {
   "cell_type": "code",
   "execution_count": 21,
   "id": "5b6e00a2",
   "metadata": {},
   "outputs": [],
   "source": [
    "loaded_model = tf.keras.models.load_model('BigdatasetCNNwithLSTMPaper18ML150.h5')\n",
    "loaded_model.load_weights('BigdatasetCNNwithLSTMPaper18ML150.h5')"
   ]
  },
  {
   "cell_type": "code",
   "execution_count": 22,
   "id": "e696f027",
   "metadata": {},
   "outputs": [],
   "source": [
    "def clean_data(input_val):\n",
    "\n",
    "    txts = tok.texts_to_sequences(input_val)\n",
    "    input_val = sequence.pad_sequences(txts, maxlen=max_len)\n",
    "\n",
    "    return input_val\n",
    "\n",
    "\n",
    "def predict_sqli_attack():\n",
    "    \n",
    "    repeat=True\n",
    "    \n",
    "    space=''\n",
    "    for i in range(20):\n",
    "        space+= \"-\"\n",
    "\n",
    "    print(space) \n",
    "    input_val=input(\"Please enter some data: \")\n",
    "    print(space)\n",
    "\n",
    "    \n",
    "    if input_val== '0':\n",
    "        repeat=False\n",
    "    \n",
    "    sample_texts_list = []\n",
    "    sample_texts_list.append(input_val)\n",
    "    txts = tok.texts_to_sequences(sample_texts_list)\n",
    "    txts = sequence.pad_sequences(txts, maxlen=max_len)\n",
    "\n",
    "    result=loaded_model.predict(txts)\n",
    "    print(result)\n",
    "\n",
    "\n",
    "    print(space)\n",
    "    \n",
    "    \n",
    "    if repeat == True:\n",
    "            if result > 0.5:\n",
    "                 print(\"ALERT! This can be SQL injection\")\n",
    "            elif result <= 0.5:\n",
    "                 print(\"It seems to be a benign\")\n",
    "            \n",
    "            print(space)\n",
    "        \n",
    "            predict_sqli_attack()\n",
    "            \n",
    "    elif repeat == False:\n",
    "        print( \" Closing \")"
   ]
  },
  {
   "cell_type": "code",
   "execution_count": 23,
   "id": "ee82deb9",
   "metadata": {},
   "outputs": [
    {
     "name": "stdout",
     "output_type": "stream",
     "text": [
      "--------------------\n",
      "Please enter some data: '\n",
      "--------------------\n",
      "1/1 [==============================] - 1s 880ms/step\n",
      "[[0.05323219]]\n",
      "--------------------\n",
      "It seems to be a benign\n",
      "--------------------\n",
      "--------------------\n",
      "Please enter some data: ' '\n",
      "--------------------\n",
      "1/1 [==============================] - 0s 44ms/step\n",
      "[[0.99564195]]\n",
      "--------------------\n",
      "ALERT! This can be SQL injection\n",
      "--------------------\n",
      "--------------------\n",
      "Please enter some data: \" \"\n",
      "--------------------\n",
      "1/1 [==============================] - 0s 47ms/step\n",
      "[[0.05323219]]\n",
      "--------------------\n",
      "It seems to be a benign\n",
      "--------------------\n",
      "--------------------\n",
      "Please enter some data: \"\n",
      "--------------------\n",
      "1/1 [==============================] - 0s 47ms/step\n",
      "[[0.05323219]]\n",
      "--------------------\n",
      "It seems to be a benign\n",
      "--------------------\n",
      "--------------------\n",
      "Please enter some data: //\n",
      "--------------------\n",
      "1/1 [==============================] - 0s 30ms/step\n",
      "[[0.05323219]]\n",
      "--------------------\n",
      "It seems to be a benign\n",
      "--------------------\n",
      "--------------------\n",
      "Please enter some data: \\\\\n",
      "--------------------\n",
      "1/1 [==============================] - 0s 33ms/step\n",
      "[[0.05323219]]\n",
      "--------------------\n",
      "It seems to be a benign\n",
      "--------------------\n",
      "--------------------\n",
      "Please enter some data: '\n",
      "--------------------\n",
      "1/1 [==============================] - 0s 30ms/step\n",
      "[[0.05323219]]\n",
      "--------------------\n",
      "It seems to be a benign\n",
      "--------------------\n",
      "--------------------\n",
      "Please enter some data: `\n",
      "--------------------\n",
      "1/1 [==============================] - 0s 46ms/step\n",
      "[[0.05323219]]\n",
      "--------------------\n",
      "It seems to be a benign\n",
      "--------------------\n",
      "--------------------\n",
      "Please enter some data: ball or apple\n",
      "--------------------\n",
      "1/1 [==============================] - 0s 45ms/step\n",
      "[[0.08965357]]\n",
      "--------------------\n",
      "It seems to be a benign\n",
      "--------------------\n",
      "--------------------\n",
      "Please enter some data: or\n",
      "--------------------\n",
      "1/1 [==============================] - 0s 45ms/step\n",
      "[[0.05323219]]\n",
      "--------------------\n",
      "It seems to be a benign\n",
      "--------------------\n",
      "--------------------\n",
      "Please enter some data: and\n",
      "--------------------\n",
      "1/1 [==============================] - 0s 43ms/step\n",
      "[[0.05323219]]\n",
      "--------------------\n",
      "It seems to be a benign\n",
      "--------------------\n",
      "--------------------\n",
      "Please enter some data: select union group concat schema\n",
      "--------------------\n",
      "1/1 [==============================] - 0s 44ms/step\n",
      "[[0.999988]]\n",
      "--------------------\n",
      "ALERT! This can be SQL injection\n",
      "--------------------\n",
      "--------------------\n",
      "Please enter some data: or 1=1'\n",
      "--------------------\n",
      "1/1 [==============================] - 0s 28ms/step\n",
      "[[0.9999883]]\n",
      "--------------------\n",
      "ALERT! This can be SQL injection\n",
      "--------------------\n",
      "--------------------\n",
      "Please enter some data: and or 1=1'\n",
      "--------------------\n",
      "1/1 [==============================] - 0s 50ms/step\n",
      "[[0.9999985]]\n",
      "--------------------\n",
      "ALERT! This can be SQL injection\n",
      "--------------------\n",
      "--------------------\n",
      "Please enter some data: 0\n",
      "--------------------\n",
      "1/1 [==============================] - 0s 45ms/step\n",
      "[[0.05323219]]\n",
      "--------------------\n",
      " Closing \n"
     ]
    }
   ],
   "source": [
    "predict_sqli_attack()"
   ]
  },
  {
   "cell_type": "code",
   "execution_count": null,
   "id": "fb7fdc34",
   "metadata": {},
   "outputs": [],
   "source": []
  }
 ],
 "metadata": {
  "kernelspec": {
   "display_name": "Python 3 (ipykernel)",
   "language": "python",
   "name": "python3"
  },
  "language_info": {
   "codemirror_mode": {
    "name": "ipython",
    "version": 3
   },
   "file_extension": ".py",
   "mimetype": "text/x-python",
   "name": "python",
   "nbconvert_exporter": "python",
   "pygments_lexer": "ipython3",
   "version": "3.11.5"
  }
 },
 "nbformat": 4,
 "nbformat_minor": 5
}
