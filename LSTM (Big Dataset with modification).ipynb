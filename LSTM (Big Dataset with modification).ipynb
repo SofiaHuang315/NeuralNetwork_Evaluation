{
 "cells": [
  {
   "cell_type": "code",
   "execution_count": 1,
   "id": "8da8ec74",
   "metadata": {},
   "outputs": [
    {
     "name": "stdout",
     "output_type": "stream",
     "text": [
      "WARNING:tensorflow:From C:\\Users\\Huang\\anaconda3\\Lib\\site-packages\\keras\\src\\losses.py:2976: The name tf.losses.sparse_softmax_cross_entropy is deprecated. Please use tf.compat.v1.losses.sparse_softmax_cross_entropy instead.\n",
      "\n"
     ]
    }
   ],
   "source": [
    "import pandas as pd\n",
    "import numpy as np\n",
    "import matplotlib.pyplot as plt\n",
    "import seaborn as sns\n",
    "from sklearn.model_selection import train_test_split\n",
    "from sklearn.preprocessing import LabelEncoder\n",
    "from keras.models import Model\n",
    "from keras.layers import LSTM, Activation, Dense, Dropout, Input, Embedding\n",
    "from keras.optimizers import RMSprop\n",
    "from keras.preprocessing.text import Tokenizer\n",
    "from keras.preprocessing import sequence\n",
    "from keras.utils import to_categorical\n",
    "from keras.callbacks import EarlyStopping\n",
    "%matplotlib inline\n",
    "from keras.preprocessing.text import Tokenizer\n",
    "import tensorflow as tf\n",
    "from keras.metrics import Recall\n",
    "from keras.metrics import Accuracy\n",
    "\n",
    "from tensorflow.keras.preprocessing.text import Tokenizer\n",
    "from tensorflow.keras.preprocessing.sequence import pad_sequences\n",
    "from sklearn.feature_extraction.text import CountVectorizer\n",
    "from sklearn.feature_extraction.text import TfidfVectorizer"
   ]
  },
  {
   "cell_type": "code",
   "execution_count": 2,
   "id": "649ce1dd",
   "metadata": {},
   "outputs": [],
   "source": [
    "df = pd.read_csv('clean_sql_dataset - Copy.csv')"
   ]
  },
  {
   "cell_type": "code",
   "execution_count": 3,
   "id": "5329749c",
   "metadata": {},
   "outputs": [
    {
     "data": {
      "text/html": [
       "<div>\n",
       "<style scoped>\n",
       "    .dataframe tbody tr th:only-of-type {\n",
       "        vertical-align: middle;\n",
       "    }\n",
       "\n",
       "    .dataframe tbody tr th {\n",
       "        vertical-align: top;\n",
       "    }\n",
       "\n",
       "    .dataframe thead th {\n",
       "        text-align: right;\n",
       "    }\n",
       "</style>\n",
       "<table border=\"1\" class=\"dataframe\">\n",
       "  <thead>\n",
       "    <tr style=\"text-align: right;\">\n",
       "      <th></th>\n",
       "      <th>Query</th>\n",
       "      <th>Label</th>\n",
       "    </tr>\n",
       "  </thead>\n",
       "  <tbody>\n",
       "    <tr>\n",
       "      <th>0</th>\n",
       "      <td>\" or pg_sleep  (  __TIME__  )  --</td>\n",
       "      <td>1</td>\n",
       "    </tr>\n",
       "    <tr>\n",
       "      <th>1</th>\n",
       "      <td>create user name identified by pass123 tempora...</td>\n",
       "      <td>1</td>\n",
       "    </tr>\n",
       "    <tr>\n",
       "      <th>2</th>\n",
       "      <td>AND 1  =  utl_inaddr.get_host_address   (    ...</td>\n",
       "      <td>1</td>\n",
       "    </tr>\n",
       "    <tr>\n",
       "      <th>3</th>\n",
       "      <td>select * from users where id  =  '1' or @ @1 ...</td>\n",
       "      <td>1</td>\n",
       "    </tr>\n",
       "    <tr>\n",
       "      <th>4</th>\n",
       "      <td>select * from users where id  =  1 or 1#\"  ( ...</td>\n",
       "      <td>1</td>\n",
       "    </tr>\n",
       "  </tbody>\n",
       "</table>\n",
       "</div>"
      ],
      "text/plain": [
       "                                               Query  Label\n",
       "0                  \" or pg_sleep  (  __TIME__  )  --      1\n",
       "1  create user name identified by pass123 tempora...      1\n",
       "2   AND 1  =  utl_inaddr.get_host_address   (    ...      1\n",
       "3   select * from users where id  =  '1' or @ @1 ...      1\n",
       "4   select * from users where id  =  1 or 1#\"  ( ...      1"
      ]
     },
     "execution_count": 3,
     "metadata": {},
     "output_type": "execute_result"
    }
   ],
   "source": [
    "df.head()"
   ]
  },
  {
   "cell_type": "code",
   "execution_count": 4,
   "id": "37cae088",
   "metadata": {},
   "outputs": [
    {
     "name": "stdout",
     "output_type": "stream",
     "text": [
      "<class 'pandas.core.frame.DataFrame'>\n",
      "RangeIndex: 149435 entries, 0 to 149434\n",
      "Data columns (total 2 columns):\n",
      " #   Column  Non-Null Count   Dtype \n",
      "---  ------  --------------   ----- \n",
      " 0   Query   149434 non-null  object\n",
      " 1   Label   149435 non-null  int64 \n",
      "dtypes: int64(1), object(1)\n",
      "memory usage: 2.3+ MB\n"
     ]
    }
   ],
   "source": [
    "df.info()"
   ]
  },
  {
   "cell_type": "code",
   "execution_count": 5,
   "id": "90dd9adc",
   "metadata": {},
   "outputs": [],
   "source": [
    "df.dropna(inplace=True)"
   ]
  },
  {
   "cell_type": "code",
   "execution_count": 6,
   "id": "238b999f",
   "metadata": {},
   "outputs": [],
   "source": [
    "X=df['Query']\n",
    "y=df['Label']"
   ]
  },
  {
   "cell_type": "code",
   "execution_count": 7,
   "id": "91655040",
   "metadata": {},
   "outputs": [
    {
     "data": {
      "text/plain": [
       "611692"
      ]
     },
     "execution_count": 7,
     "metadata": {},
     "output_type": "execute_result"
    }
   ],
   "source": [
    "max_words = len(list(X.str.split(' ', expand=True).stack().unique()))\n",
    "max_words"
   ]
  },
  {
   "cell_type": "code",
   "execution_count": 8,
   "id": "8beac347",
   "metadata": {},
   "outputs": [],
   "source": [
    "X_train, X_test, y_train, y_test = train_test_split(X, y, test_size=0.2, random_state=42)"
   ]
  },
  {
   "cell_type": "code",
   "execution_count": 9,
   "id": "e9bc91a5",
   "metadata": {},
   "outputs": [],
   "source": [
    "max_words = 611692\n",
    "max_len = 150\n",
    "tok = Tokenizer(num_words=max_words)\n",
    "tok.fit_on_texts(X_train)\n",
    "sequences = tok.texts_to_sequences(X_train)\n",
    "sequences_matrix = sequence.pad_sequences(sequences,maxlen=max_len)"
   ]
  },
  {
   "cell_type": "code",
   "execution_count": 10,
   "id": "6da88089",
   "metadata": {},
   "outputs": [
    {
     "name": "stdout",
     "output_type": "stream",
     "text": [
      "WARNING:tensorflow:From C:\\Users\\Huang\\anaconda3\\Lib\\site-packages\\keras\\src\\backend.py:873: The name tf.get_default_graph is deprecated. Please use tf.compat.v1.get_default_graph instead.\n",
      "\n",
      "Model: \"sequential\"\n",
      "_________________________________________________________________\n",
      " Layer (type)                Output Shape              Param #   \n",
      "=================================================================\n",
      " embedding (Embedding)       (None, 150, 100)          61169200  \n",
      "                                                                 \n",
      " lstm (LSTM)                 (None, 64)                42240     \n",
      "                                                                 \n",
      " dense (Dense)               (None, 1)                 65        \n",
      "                                                                 \n",
      "=================================================================\n",
      "Total params: 61211505 (233.50 MB)\n",
      "Trainable params: 61211505 (233.50 MB)\n",
      "Non-trainable params: 0 (0.00 Byte)\n",
      "_________________________________________________________________\n",
      "WARNING:tensorflow:From C:\\Users\\Huang\\anaconda3\\Lib\\site-packages\\keras\\src\\optimizers\\__init__.py:309: The name tf.train.Optimizer is deprecated. Please use tf.compat.v1.train.Optimizer instead.\n",
      "\n"
     ]
    }
   ],
   "source": [
    "from keras.models import Sequential\n",
    "model = Sequential()\n",
    "model.add(Embedding(max_words,100,input_length=max_len))\n",
    "model.add(LSTM(64))\n",
    "model.add(Dense(1,activation=\"sigmoid\"))\n",
    "model.summary()\n",
    "model.compile(loss='binary_crossentropy',optimizer='adam',metrics=['accuracy'])"
   ]
  },
  {
   "cell_type": "code",
   "execution_count": 11,
   "id": "0186d286",
   "metadata": {},
   "outputs": [
    {
     "name": "stdout",
     "output_type": "stream",
     "text": [
      "Epoch 1/10\n",
      "WARNING:tensorflow:From C:\\Users\\Huang\\anaconda3\\Lib\\site-packages\\keras\\src\\utils\\tf_utils.py:492: The name tf.ragged.RaggedTensorValue is deprecated. Please use tf.compat.v1.ragged.RaggedTensorValue instead.\n",
      "\n",
      "WARNING:tensorflow:From C:\\Users\\Huang\\anaconda3\\Lib\\site-packages\\keras\\src\\engine\\base_layer_utils.py:384: The name tf.executing_eagerly_outside_functions is deprecated. Please use tf.compat.v1.executing_eagerly_outside_functions instead.\n",
      "\n",
      "748/748 [==============================] - 393s 519ms/step - loss: 0.1005 - accuracy: 0.9699 - val_loss: 0.0484 - val_accuracy: 0.9886\n",
      "Epoch 2/10\n",
      "748/748 [==============================] - 381s 509ms/step - loss: 0.0328 - accuracy: 0.9919 - val_loss: 0.0393 - val_accuracy: 0.9902\n",
      "Epoch 3/10\n",
      "748/748 [==============================] - 435s 581ms/step - loss: 0.0294 - accuracy: 0.9929 - val_loss: 0.0602 - val_accuracy: 0.9836\n",
      "Epoch 4/10\n",
      "748/748 [==============================] - 385s 514ms/step - loss: 0.0264 - accuracy: 0.9935 - val_loss: 0.0458 - val_accuracy: 0.9881\n",
      "Epoch 5/10\n",
      "748/748 [==============================] - 447s 597ms/step - loss: 0.0140 - accuracy: 0.9965 - val_loss: 0.0628 - val_accuracy: 0.9837\n"
     ]
    }
   ],
   "source": [
    "callbacks = EarlyStopping(monitor='val_loss', min_delta=0.0001, patience=3)\n",
    "history = model.fit(sequences_matrix,y_train, batch_size=128, epochs=10,\n",
    "                   validation_split=0.2,callbacks=[callbacks])"
   ]
  },
  {
   "cell_type": "code",
   "execution_count": 12,
   "id": "45538c99",
   "metadata": {},
   "outputs": [],
   "source": [
    "X_test_sequences = tok.texts_to_sequences(X_test)\n",
    "X_test_sequences_matrix = sequence.pad_sequences(X_test_sequences,maxlen=max_len)"
   ]
  },
  {
   "cell_type": "code",
   "execution_count": 13,
   "id": "4904fe14",
   "metadata": {},
   "outputs": [
    {
     "name": "stdout",
     "output_type": "stream",
     "text": [
      "934/934 [==============================] - 28s 29ms/step - loss: 0.0645 - accuracy: 0.9853\n"
     ]
    }
   ],
   "source": [
    "accuracy = model.evaluate(X_test_sequences_matrix,y_test)"
   ]
  },
  {
   "cell_type": "code",
   "execution_count": 14,
   "id": "da3d27d1",
   "metadata": {},
   "outputs": [
    {
     "name": "stdout",
     "output_type": "stream",
     "text": [
      "934/934 [==============================] - 28s 29ms/step\n"
     ]
    }
   ],
   "source": [
    "y_pred=model.predict(X_test_sequences_matrix)"
   ]
  },
  {
   "cell_type": "code",
   "execution_count": 15,
   "id": "08d52861",
   "metadata": {},
   "outputs": [
    {
     "name": "stdout",
     "output_type": "stream",
     "text": [
      "[[0.9999802 ]\n",
      " [0.99994874]\n",
      " [0.9999335 ]\n",
      " ...\n",
      " [0.00155959]\n",
      " [0.13201776]\n",
      " [0.9999843 ]]\n"
     ]
    }
   ],
   "source": [
    "print(y_pred)"
   ]
  },
  {
   "cell_type": "code",
   "execution_count": 16,
   "id": "d10b886e",
   "metadata": {},
   "outputs": [],
   "source": [
    "for i in range(len(y_pred)):\n",
    "    if y_pred[i]>0.5:\n",
    "        y_pred[i]=1\n",
    "    elif y_pred[i]<=0.5:\n",
    "        y_pred[i]=0"
   ]
  },
  {
   "cell_type": "code",
   "execution_count": 17,
   "id": "8e9f0d20",
   "metadata": {},
   "outputs": [
    {
     "name": "stdout",
     "output_type": "stream",
     "text": [
      "[[1.]\n",
      " [1.]\n",
      " [1.]\n",
      " ...\n",
      " [0.]\n",
      " [0.]\n",
      " [1.]]\n"
     ]
    }
   ],
   "source": [
    "print(y_pred)"
   ]
  },
  {
   "cell_type": "code",
   "execution_count": 18,
   "id": "dd3d27f6",
   "metadata": {},
   "outputs": [
    {
     "name": "stdout",
     "output_type": "stream",
     "text": [
      " Accuracy : 0.9852778800147222 \n",
      " Precision : 0.9855348306052532 \n",
      " Recall : 0.98653626317795 \n",
      " F1 : 0.9860352926240955\n"
     ]
    }
   ],
   "source": [
    "from sklearn.metrics import confusion_matrix\n",
    "from sklearn.metrics import accuracy_score\n",
    "from sklearn.metrics import precision_score\n",
    "from sklearn.metrics import recall_score\n",
    "from sklearn.metrics import f1_score\n",
    "confusion_matrix(y_test, y_pred)  \n",
    "plt.show()\n",
    "accuracy= accuracy_score(y_test, y_pred)\n",
    "precision= precision_score(y_test, y_pred, zero_division=1)\n",
    "recall= recall_score(y_test, y_pred, zero_division=1)\n",
    "f1_score= f1_score(y_test, y_pred, zero_division=1)\n",
    "print(\" Accuracy : {0} \\n Precision : {1} \\n Recall : {2} \\n F1 : {3}\".format(accuracy, precision, recall, f1_score))"
   ]
  },
  {
   "cell_type": "code",
   "execution_count": 19,
   "id": "66def0f7",
   "metadata": {},
   "outputs": [
    {
     "name": "stdout",
     "output_type": "stream",
     "text": [
      "[[13913   228]\n",
      " [  212 15534]]\n"
     ]
    }
   ],
   "source": [
    "cf_matrix = confusion_matrix(y_test, y_pred)\n",
    "print(cf_matrix)"
   ]
  },
  {
   "cell_type": "code",
   "execution_count": 20,
   "id": "02792a3d",
   "metadata": {},
   "outputs": [
    {
     "data": {
      "text/plain": [
       "<Axes: >"
      ]
     },
     "execution_count": 20,
     "metadata": {},
     "output_type": "execute_result"
    },
    {
     "data": {
      "image/png": "[encoded data removed]",
      "text/plain": [
       "<Figure size 640x480 with 2 Axes>"
      ]
     },
     "metadata": {},
     "output_type": "display_data"
    }
   ],
   "source": [
    "import seaborn as sns\n",
    "sns.heatmap(cf_matrix, annot=True)"
   ]
  },
  {
   "cell_type": "code",
   "execution_count": 21,
   "id": "31e265b3",
   "metadata": {},
   "outputs": [
    {
     "name": "stdout",
     "output_type": "stream",
     "text": [
      "done\n"
     ]
    },
    {
     "name": "stderr",
     "output_type": "stream",
     "text": [
      "C:\\Users\\Huang\\anaconda3\\Lib\\site-packages\\keras\\src\\engine\\training.py:3103: UserWarning: You are saving your model as an HDF5 file via `model.save()`. This file format is considered legacy. We recommend using instead the native Keras format, e.g. `model.save('my_model.keras')`.\n",
      "  saving_api.save_model(\n"
     ]
    }
   ],
   "source": [
    "from keras.models import load_model\n",
    "from pathlib import Path\n",
    "\n",
    "model.save_weights(\"lstm_weights_LSTMModifiedDataset.h5\")\n",
    "print('done')\n",
    "\n",
    "model.save('lstm_model_LSTMModifiedDataset.h5')"
   ]
  },
  {
   "cell_type": "code",
   "execution_count": 22,
   "id": "365c8525",
   "metadata": {},
   "outputs": [],
   "source": [
    "loaded_model = tf.keras.models.load_model('lstm_model_LSTMModifiedDataset.h5')\n",
    "loaded_model.load_weights('lstm_weights_LSTMModifiedDataset.h5')"
   ]
  },
  {
   "cell_type": "code",
   "execution_count": 23,
   "id": "97d03f9b",
   "metadata": {},
   "outputs": [],
   "source": [
    "def clean_data(input_val):\n",
    "\n",
    "    txts = tok.texts_to_sequences(input_val)\n",
    "    input_val = sequence.pad_sequences(txts, maxlen=max_len)\n",
    "\n",
    "    return input_val\n",
    "\n",
    "\n",
    "def predict_sqli_attack():\n",
    "    \n",
    "    repeat=True\n",
    "    \n",
    "    space=''\n",
    "    for i in range(20):\n",
    "        space+= \"-\"\n",
    "\n",
    "    print(space) \n",
    "    input_val=input(\"Please enter some data: \")\n",
    "    print(space)\n",
    "\n",
    "    \n",
    "    if input_val== '0':\n",
    "        repeat=False\n",
    "    \n",
    "    sample_texts_list = []\n",
    "    sample_texts_list.append(input_val)\n",
    "    txts = tok.texts_to_sequences(sample_texts_list)\n",
    "    txts = sequence.pad_sequences(txts, maxlen=max_len)\n",
    "\n",
    "    result=loaded_model.predict(txts)\n",
    "    print(result)\n",
    "\n",
    "\n",
    "    print(space)\n",
    "    \n",
    "    \n",
    "    if repeat == True:\n",
    "            if result > 0.5:\n",
    "                 print(\"ALERT! This can be SQL injection\")\n",
    "            elif result <= 0.5:\n",
    "                 print(\"It seems to be a benign\")\n",
    "            \n",
    "            print(space)\n",
    "        \n",
    "            predict_sqli_attack()\n",
    "            \n",
    "    elif repeat == False:\n",
    "        print( \" Closing \")"
   ]
  },
  {
   "cell_type": "code",
   "execution_count": 24,
   "id": "cb8ff491",
   "metadata": {},
   "outputs": [
    {
     "name": "stdout",
     "output_type": "stream",
     "text": [
      "--------------------\n",
      "Please enter some data: '\n",
      "--------------------\n",
      "1/1 [==============================] - 1s 803ms/step\n",
      "[[0.8735781]]\n",
      "--------------------\n",
      "ALERT! This can be SQL injection\n",
      "--------------------\n",
      "--------------------\n",
      "Please enter some data: \"\n",
      "--------------------\n",
      "1/1 [==============================] - 0s 45ms/step\n",
      "[[0.37421626]]\n",
      "--------------------\n",
      "It seems to be a benign\n",
      "--------------------\n",
      "--------------------\n",
      "Please enter some data: ~\n",
      "--------------------\n",
      "1/1 [==============================] - 0s 45ms/step\n",
      "[[0.37421626]]\n",
      "--------------------\n",
      "It seems to be a benign\n",
      "--------------------\n",
      "--------------------\n",
      "Please enter some data: `\n",
      "--------------------\n",
      "1/1 [==============================] - 0s 45ms/step\n",
      "[[0.37421626]]\n",
      "--------------------\n",
      "It seems to be a benign\n",
      "--------------------\n",
      "--------------------\n",
      "Please enter some data: ' '\n",
      "--------------------\n",
      "1/1 [==============================] - 0s 45ms/step\n",
      "[[0.97706884]]\n",
      "--------------------\n",
      "ALERT! This can be SQL injection\n",
      "--------------------\n",
      "--------------------\n",
      "Please enter some data: \" \"\n",
      "--------------------\n",
      "1/1 [==============================] - 0s 31ms/step\n",
      "[[0.37421626]]\n",
      "--------------------\n",
      "It seems to be a benign\n",
      "--------------------\n",
      "--------------------\n",
      "Please enter some data: id=1'\n",
      "--------------------\n",
      "1/1 [==============================] - 0s 55ms/step\n",
      "[[0.9977673]]\n",
      "--------------------\n",
      "ALERT! This can be SQL injection\n",
      "--------------------\n",
      "--------------------\n",
      "Please enter some data: id=100'\n",
      "--------------------\n",
      "1/1 [==============================] - 0s 33ms/step\n",
      "[[0.94868636]]\n",
      "--------------------\n",
      "ALERT! This can be SQL injection\n",
      "--------------------\n",
      "--------------------\n",
      "Please enter some data: id=50'\n",
      "--------------------\n",
      "1/1 [==============================] - 0s 54ms/step\n",
      "[[0.66620237]]\n",
      "--------------------\n",
      "ALERT! This can be SQL injection\n",
      "--------------------\n",
      "--------------------\n",
      "Please enter some data: id=70' or 1=1\n",
      "--------------------\n",
      "1/1 [==============================] - 0s 46ms/step\n",
      "[[0.99957055]]\n",
      "--------------------\n",
      "ALERT! This can be SQL injection\n",
      "--------------------\n",
      "--------------------\n",
      "Please enter some data: ball or apple\n",
      "--------------------\n",
      "1/1 [==============================] - 0s 46ms/step\n",
      "[[0.00389856]]\n",
      "--------------------\n",
      "It seems to be a benign\n",
      "--------------------\n",
      "--------------------\n",
      "Please enter some data: ball and apple\n",
      "--------------------\n",
      "1/1 [==============================] - 0s 38ms/step\n",
      "[[0.00155771]]\n",
      "--------------------\n",
      "It seems to be a benign\n",
      "--------------------\n",
      "--------------------\n",
      "Please enter some data: sleep(20) \n",
      "--------------------\n",
      "1/1 [==============================] - 0s 48ms/step\n",
      "[[0.9558778]]\n",
      "--------------------\n",
      "ALERT! This can be SQL injection\n",
      "--------------------\n",
      "--------------------\n",
      "Please enter some data: select union group concat schema\n",
      "--------------------\n",
      "1/1 [==============================] - 0s 44ms/step\n",
      "[[0.99994844]]\n",
      "--------------------\n",
      "ALERT! This can be SQL injection\n",
      "--------------------\n",
      "--------------------\n",
      "Please enter some data: select * from table\n",
      "--------------------\n",
      "1/1 [==============================] - 0s 43ms/step\n",
      "[[0.00040055]]\n",
      "--------------------\n",
      "It seems to be a benign\n",
      "--------------------\n",
      "--------------------\n",
      "Please enter some data: I am MPP\n",
      "--------------------\n",
      "1/1 [==============================] - 0s 42ms/step\n",
      "[[0.00425032]]\n",
      "--------------------\n",
      "It seems to be a benign\n",
      "--------------------\n",
      "--------------------\n",
      "Please enter some data: \" \"\n",
      "--------------------\n",
      "1/1 [==============================] - 0s 48ms/step\n",
      "[[0.37421626]]\n",
      "--------------------\n",
      "It seems to be a benign\n",
      "--------------------\n",
      "--------------------\n",
      "Please enter some data: \"-\"\n",
      "--------------------\n",
      "1/1 [==============================] - 0s 45ms/step\n",
      "[[0.37421626]]\n",
      "--------------------\n",
      "It seems to be a benign\n",
      "--------------------\n",
      "--------------------\n",
      "Please enter some data: '-'\n",
      "--------------------\n",
      "1/1 [==============================] - 0s 45ms/step\n",
      "[[0.97706884]]\n",
      "--------------------\n",
      "ALERT! This can be SQL injection\n",
      "--------------------\n",
      "--------------------\n",
      "Please enter some data: www.google.com/?id=1' or 1=1\n",
      "--------------------\n",
      "1/1 [==============================] - 0s 43ms/step\n",
      "[[0.99997526]]\n",
      "--------------------\n",
      "ALERT! This can be SQL injection\n",
      "--------------------\n",
      "--------------------\n",
      "Please enter some data: www.sample.com/id=2\" and 1=1 -- -\n",
      "--------------------\n",
      "1/1 [==============================] - 0s 44ms/step\n",
      "[[0.28354073]]\n",
      "--------------------\n",
      "It seems to be a benign\n",
      "--------------------\n",
      "--------------------\n",
      "Please enter some data: www.google.com/id=1' select union group concat schema\n",
      "--------------------\n",
      "1/1 [==============================] - 0s 48ms/step\n",
      "[[0.9999657]]\n",
      "--------------------\n",
      "ALERT! This can be SQL injection\n",
      "--------------------\n",
      "--------------------\n",
      "Please enter some data: id=100\" \n",
      "--------------------\n",
      "1/1 [==============================] - 0s 48ms/step\n",
      "[[0.00237438]]\n",
      "--------------------\n",
      "It seems to be a benign\n",
      "--------------------\n",
      "--------------------\n",
      "Please enter some data: id=10\"\n",
      "--------------------\n",
      "1/1 [==============================] - 0s 44ms/step\n",
      "[[0.01064098]]\n",
      "--------------------\n",
      "It seems to be a benign\n",
      "--------------------\n",
      "--------------------\n",
      "Please enter some data: 0\n",
      "--------------------\n",
      "1/1 [==============================] - 0s 44ms/step\n",
      "[[0.86292076]]\n",
      "--------------------\n",
      " Closing \n"
     ]
    }
   ],
   "source": [
    "predict_sqli_attack()"
   ]
  },
  {
   "cell_type": "code",
   "execution_count": null,
   "id": "8e46360b",
   "metadata": {},
   "outputs": [],
   "source": []
  }
 ],
 "metadata": {
  "kernelspec": {
   "display_name": "Python 3 (ipykernel)",
   "language": "python",
   "name": "python3"
  },
  "language_info": {
   "codemirror_mode": {
    "name": "ipython",
    "version": 3
   },
   "file_extension": ".py",
   "mimetype": "text/x-python",
   "name": "python",
   "nbconvert_exporter": "python",
   "pygments_lexer": "ipython3",
   "version": "3.11.5"
  }
 },
 "nbformat": 4,
 "nbformat_minor": 5
}
